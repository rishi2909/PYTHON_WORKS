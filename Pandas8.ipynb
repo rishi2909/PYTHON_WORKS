{
 "cells": [
  {
   "cell_type": "code",
   "execution_count": 4,
   "id": "e74879dc-8830-4ad6-86c3-acf9b4e7eede",
   "metadata": {},
   "outputs": [
    {
     "data": {
      "text/html": [
       "<div>\n",
       "<style scoped>\n",
       "    .dataframe tbody tr th:only-of-type {\n",
       "        vertical-align: middle;\n",
       "    }\n",
       "\n",
       "    .dataframe tbody tr th {\n",
       "        vertical-align: top;\n",
       "    }\n",
       "\n",
       "    .dataframe thead th {\n",
       "        text-align: right;\n",
       "    }\n",
       "</style>\n",
       "<table border=\"1\" class=\"dataframe\">\n",
       "  <thead>\n",
       "    <tr style=\"text-align: right;\">\n",
       "      <th></th>\n",
       "      <th>Text</th>\n",
       "    </tr>\n",
       "  </thead>\n",
       "  <tbody>\n",
       "    <tr>\n",
       "      <th>0</th>\n",
       "      <td>Hello, how are you?</td>\n",
       "    </tr>\n",
       "    <tr>\n",
       "      <th>1</th>\n",
       "      <td>Pandas is great!</td>\n",
       "    </tr>\n",
       "    <tr>\n",
       "      <th>2</th>\n",
       "      <td>Text data Handling in Python is useful</td>\n",
       "    </tr>\n",
       "  </tbody>\n",
       "</table>\n",
       "</div>"
      ],
      "text/plain": [
       "                                     Text\n",
       "0                     Hello, how are you?\n",
       "1                        Pandas is great!\n",
       "2  Text data Handling in Python is useful"
      ]
     },
     "execution_count": 4,
     "metadata": {},
     "output_type": "execute_result"
    }
   ],
   "source": [
    "import pandas as pd\n",
    "data =  {'Text':['Hello, how are you?','Pandas is great!','Text data Handling in Python is useful']}  # creating a DataFrame having Text as values\n",
    "df = pd.DataFrame(data)\n",
    "df"
   ]
  },
  {
   "cell_type": "code",
   "execution_count": 6,
   "id": "873c1af0-ae23-4b9e-a261-665ff4c3e282",
   "metadata": {},
   "outputs": [
    {
     "data": {
      "text/html": [
       "<div>\n",
       "<style scoped>\n",
       "    .dataframe tbody tr th:only-of-type {\n",
       "        vertical-align: middle;\n",
       "    }\n",
       "\n",
       "    .dataframe tbody tr th {\n",
       "        vertical-align: top;\n",
       "    }\n",
       "\n",
       "    .dataframe thead th {\n",
       "        text-align: right;\n",
       "    }\n",
       "</style>\n",
       "<table border=\"1\" class=\"dataframe\">\n",
       "  <thead>\n",
       "    <tr style=\"text-align: right;\">\n",
       "      <th></th>\n",
       "      <th>Text</th>\n",
       "      <th>lower</th>\n",
       "    </tr>\n",
       "  </thead>\n",
       "  <tbody>\n",
       "    <tr>\n",
       "      <th>0</th>\n",
       "      <td>Hello, how are you?</td>\n",
       "      <td>hello, how are you?</td>\n",
       "    </tr>\n",
       "    <tr>\n",
       "      <th>1</th>\n",
       "      <td>Pandas is great!</td>\n",
       "      <td>pandas is great!</td>\n",
       "    </tr>\n",
       "    <tr>\n",
       "      <th>2</th>\n",
       "      <td>Text data Handling in Python is useful</td>\n",
       "      <td>text data handling in python is useful</td>\n",
       "    </tr>\n",
       "  </tbody>\n",
       "</table>\n",
       "</div>"
      ],
      "text/plain": [
       "                                     Text  \\\n",
       "0                     Hello, how are you?   \n",
       "1                        Pandas is great!   \n",
       "2  Text data Handling in Python is useful   \n",
       "\n",
       "                                    lower  \n",
       "0                     hello, how are you?  \n",
       "1                        pandas is great!  \n",
       "2  text data handling in python is useful  "
      ]
     },
     "execution_count": 6,
     "metadata": {},
     "output_type": "execute_result"
    }
   ],
   "source": [
    "df['lower'] = df['Text'].str.lower()  #  adding col and convert it into lowercase.\n",
    "df"
   ]
  },
  {
   "cell_type": "code",
   "execution_count": 7,
   "id": "28d07503-c8f4-4b0c-9c7c-313f0b8fb6fc",
   "metadata": {},
   "outputs": [
    {
     "data": {
      "text/html": [
       "<div>\n",
       "<style scoped>\n",
       "    .dataframe tbody tr th:only-of-type {\n",
       "        vertical-align: middle;\n",
       "    }\n",
       "\n",
       "    .dataframe tbody tr th {\n",
       "        vertical-align: top;\n",
       "    }\n",
       "\n",
       "    .dataframe thead th {\n",
       "        text-align: right;\n",
       "    }\n",
       "</style>\n",
       "<table border=\"1\" class=\"dataframe\">\n",
       "  <thead>\n",
       "    <tr style=\"text-align: right;\">\n",
       "      <th></th>\n",
       "      <th>Text</th>\n",
       "      <th>lower</th>\n",
       "      <th>upper</th>\n",
       "    </tr>\n",
       "  </thead>\n",
       "  <tbody>\n",
       "    <tr>\n",
       "      <th>0</th>\n",
       "      <td>Hello, how are you?</td>\n",
       "      <td>hello, how are you?</td>\n",
       "      <td>HELLO, HOW ARE YOU?</td>\n",
       "    </tr>\n",
       "    <tr>\n",
       "      <th>1</th>\n",
       "      <td>Pandas is great!</td>\n",
       "      <td>pandas is great!</td>\n",
       "      <td>PANDAS IS GREAT!</td>\n",
       "    </tr>\n",
       "    <tr>\n",
       "      <th>2</th>\n",
       "      <td>Text data Handling in Python is useful</td>\n",
       "      <td>text data handling in python is useful</td>\n",
       "      <td>TEXT DATA HANDLING IN PYTHON IS USEFUL</td>\n",
       "    </tr>\n",
       "  </tbody>\n",
       "</table>\n",
       "</div>"
      ],
      "text/plain": [
       "                                     Text  \\\n",
       "0                     Hello, how are you?   \n",
       "1                        Pandas is great!   \n",
       "2  Text data Handling in Python is useful   \n",
       "\n",
       "                                    lower  \\\n",
       "0                     hello, how are you?   \n",
       "1                        pandas is great!   \n",
       "2  text data handling in python is useful   \n",
       "\n",
       "                                    upper  \n",
       "0                     HELLO, HOW ARE YOU?  \n",
       "1                        PANDAS IS GREAT!  \n",
       "2  TEXT DATA HANDLING IN PYTHON IS USEFUL  "
      ]
     },
     "execution_count": 7,
     "metadata": {},
     "output_type": "execute_result"
    }
   ],
   "source": [
    "df['upper'] = df['Text'].str.upper()\n",
    "df"
   ]
  },
  {
   "cell_type": "code",
   "execution_count": 9,
   "id": "3500e728-4577-4c46-9e66-d4dfac453727",
   "metadata": {},
   "outputs": [
    {
     "data": {
      "text/html": [
       "<div>\n",
       "<style scoped>\n",
       "    .dataframe tbody tr th:only-of-type {\n",
       "        vertical-align: middle;\n",
       "    }\n",
       "\n",
       "    .dataframe tbody tr th {\n",
       "        vertical-align: top;\n",
       "    }\n",
       "\n",
       "    .dataframe thead th {\n",
       "        text-align: right;\n",
       "    }\n",
       "</style>\n",
       "<table border=\"1\" class=\"dataframe\">\n",
       "  <thead>\n",
       "    <tr style=\"text-align: right;\">\n",
       "      <th></th>\n",
       "      <th>Text</th>\n",
       "      <th>lower</th>\n",
       "      <th>upper</th>\n",
       "      <th>Length</th>\n",
       "    </tr>\n",
       "  </thead>\n",
       "  <tbody>\n",
       "    <tr>\n",
       "      <th>0</th>\n",
       "      <td>Hello, how are you?</td>\n",
       "      <td>hello, how are you?</td>\n",
       "      <td>HELLO, HOW ARE YOU?</td>\n",
       "      <td>19</td>\n",
       "    </tr>\n",
       "    <tr>\n",
       "      <th>1</th>\n",
       "      <td>Pandas is great!</td>\n",
       "      <td>pandas is great!</td>\n",
       "      <td>PANDAS IS GREAT!</td>\n",
       "      <td>16</td>\n",
       "    </tr>\n",
       "    <tr>\n",
       "      <th>2</th>\n",
       "      <td>Text data Handling in Python is useful</td>\n",
       "      <td>text data handling in python is useful</td>\n",
       "      <td>TEXT DATA HANDLING IN PYTHON IS USEFUL</td>\n",
       "      <td>38</td>\n",
       "    </tr>\n",
       "  </tbody>\n",
       "</table>\n",
       "</div>"
      ],
      "text/plain": [
       "                                     Text  \\\n",
       "0                     Hello, how are you?   \n",
       "1                        Pandas is great!   \n",
       "2  Text data Handling in Python is useful   \n",
       "\n",
       "                                    lower  \\\n",
       "0                     hello, how are you?   \n",
       "1                        pandas is great!   \n",
       "2  text data handling in python is useful   \n",
       "\n",
       "                                    upper  Length  \n",
       "0                     HELLO, HOW ARE YOU?      19  \n",
       "1                        PANDAS IS GREAT!      16  \n",
       "2  TEXT DATA HANDLING IN PYTHON IS USEFUL      38  "
      ]
     },
     "execution_count": 9,
     "metadata": {},
     "output_type": "execute_result"
    }
   ],
   "source": [
    "df['Length'] = df['Text'].str.len()  # add col and find the length of Text.\n",
    "df"
   ]
  },
  {
   "cell_type": "code",
   "execution_count": 10,
   "id": "c3724a76-84b2-4772-ae4e-212c459ba012",
   "metadata": {},
   "outputs": [
    {
     "data": {
      "text/html": [
       "<div>\n",
       "<style scoped>\n",
       "    .dataframe tbody tr th:only-of-type {\n",
       "        vertical-align: middle;\n",
       "    }\n",
       "\n",
       "    .dataframe tbody tr th {\n",
       "        vertical-align: top;\n",
       "    }\n",
       "\n",
       "    .dataframe thead th {\n",
       "        text-align: right;\n",
       "    }\n",
       "</style>\n",
       "<table border=\"1\" class=\"dataframe\">\n",
       "  <thead>\n",
       "    <tr style=\"text-align: right;\">\n",
       "      <th></th>\n",
       "      <th>Text</th>\n",
       "      <th>lower</th>\n",
       "      <th>upper</th>\n",
       "      <th>Length</th>\n",
       "      <th>Words</th>\n",
       "    </tr>\n",
       "  </thead>\n",
       "  <tbody>\n",
       "    <tr>\n",
       "      <th>0</th>\n",
       "      <td>Hello, how are you?</td>\n",
       "      <td>hello, how are you?</td>\n",
       "      <td>HELLO, HOW ARE YOU?</td>\n",
       "      <td>19</td>\n",
       "      <td>[Hello,, how, are, you?]</td>\n",
       "    </tr>\n",
       "    <tr>\n",
       "      <th>1</th>\n",
       "      <td>Pandas is great!</td>\n",
       "      <td>pandas is great!</td>\n",
       "      <td>PANDAS IS GREAT!</td>\n",
       "      <td>16</td>\n",
       "      <td>[Pandas, is, great!]</td>\n",
       "    </tr>\n",
       "    <tr>\n",
       "      <th>2</th>\n",
       "      <td>Text data Handling in Python is useful</td>\n",
       "      <td>text data handling in python is useful</td>\n",
       "      <td>TEXT DATA HANDLING IN PYTHON IS USEFUL</td>\n",
       "      <td>38</td>\n",
       "      <td>[Text, data, Handling, in, Python, is, useful]</td>\n",
       "    </tr>\n",
       "  </tbody>\n",
       "</table>\n",
       "</div>"
      ],
      "text/plain": [
       "                                     Text  \\\n",
       "0                     Hello, how are you?   \n",
       "1                        Pandas is great!   \n",
       "2  Text data Handling in Python is useful   \n",
       "\n",
       "                                    lower  \\\n",
       "0                     hello, how are you?   \n",
       "1                        pandas is great!   \n",
       "2  text data handling in python is useful   \n",
       "\n",
       "                                    upper  Length  \\\n",
       "0                     HELLO, HOW ARE YOU?      19   \n",
       "1                        PANDAS IS GREAT!      16   \n",
       "2  TEXT DATA HANDLING IN PYTHON IS USEFUL      38   \n",
       "\n",
       "                                            Words  \n",
       "0                        [Hello,, how, are, you?]  \n",
       "1                            [Pandas, is, great!]  \n",
       "2  [Text, data, Handling, in, Python, is, useful]  "
      ]
     },
     "execution_count": 10,
     "metadata": {},
     "output_type": "execute_result"
    }
   ],
   "source": [
    "df['Words']=df['Text'].str.split()  # split the text using split function and also add col.\n",
    "df"
   ]
  },
  {
   "cell_type": "code",
   "execution_count": 13,
   "id": "7574f3d7-3eaf-447f-8c37-010440c9adfd",
   "metadata": {},
   "outputs": [
    {
     "data": {
      "text/plain": [
       "'Text data Handling in Python is useful'"
      ]
     },
     "execution_count": 13,
     "metadata": {},
     "output_type": "execute_result"
    }
   ],
   "source": [
    "df['Text'][2]  # extract a particular text\n"
   ]
  },
  {
   "cell_type": "code",
   "execution_count": 15,
   "id": "959f2644-0292-4a82-a4d4-70841d6ae424",
   "metadata": {},
   "outputs": [
    {
     "data": {
      "text/plain": [
       "False"
      ]
     },
     "execution_count": 15,
     "metadata": {},
     "output_type": "execute_result"
    }
   ],
   "source": [
    "df['Text'][2].startswith('P')  # if we want to check the text with some particular value then we can use startswith here starting text is T ."
   ]
  },
  {
   "cell_type": "code",
   "execution_count": 16,
   "id": "0b9fa9c3-3bb0-44e3-8b83-aae35426dafa",
   "metadata": {},
   "outputs": [
    {
     "data": {
      "text/plain": [
       "True"
      ]
     },
     "execution_count": 16,
     "metadata": {},
     "output_type": "execute_result"
    }
   ],
   "source": [
    "df['Text'][1].startswith('P')"
   ]
  },
  {
   "cell_type": "code",
   "execution_count": 4,
   "id": "2c7677c6-8cd9-4c28-81c9-70c262ff90aa",
   "metadata": {},
   "outputs": [
    {
     "data": {
      "text/html": [
       "<div>\n",
       "<style scoped>\n",
       "    .dataframe tbody tr th:only-of-type {\n",
       "        vertical-align: middle;\n",
       "    }\n",
       "\n",
       "    .dataframe tbody tr th {\n",
       "        vertical-align: top;\n",
       "    }\n",
       "\n",
       "    .dataframe thead th {\n",
       "        text-align: right;\n",
       "    }\n",
       "</style>\n",
       "<table border=\"1\" class=\"dataframe\">\n",
       "  <thead>\n",
       "    <tr style=\"text-align: right;\">\n",
       "      <th></th>\n",
       "      <th>Text</th>\n",
       "    </tr>\n",
       "  </thead>\n",
       "  <tbody>\n",
       "    <tr>\n",
       "      <th>0</th>\n",
       "      <td>Hello, how are you?</td>\n",
       "    </tr>\n",
       "    <tr>\n",
       "      <th>1</th>\n",
       "      <td>Pandas is great!</td>\n",
       "    </tr>\n",
       "    <tr>\n",
       "      <th>2</th>\n",
       "      <td>Text data Handling in Python is useful</td>\n",
       "    </tr>\n",
       "  </tbody>\n",
       "</table>\n",
       "</div>"
      ],
      "text/plain": [
       "                                     Text\n",
       "0                     Hello, how are you?\n",
       "1                        Pandas is great!\n",
       "2  Text data Handling in Python is useful"
      ]
     },
     "execution_count": 4,
     "metadata": {},
     "output_type": "execute_result"
    }
   ],
   "source": [
    "import pandas as pd\n",
    "data1 =  {'Text':['Hello, how are you?','Pandas is great!','Text data Handling in Python is useful']}  # creating a DataFrame having Text as values\n",
    "df2 = pd.DataFrame(data1)\n",
    "df2"
   ]
  },
  {
   "cell_type": "code",
   "execution_count": 5,
   "id": "b24f8bae-6428-4fac-baa2-8f323eaf9c6c",
   "metadata": {},
   "outputs": [
    {
     "data": {
      "text/html": [
       "<div>\n",
       "<style scoped>\n",
       "    .dataframe tbody tr th:only-of-type {\n",
       "        vertical-align: middle;\n",
       "    }\n",
       "\n",
       "    .dataframe tbody tr th {\n",
       "        vertical-align: top;\n",
       "    }\n",
       "\n",
       "    .dataframe thead th {\n",
       "        text-align: right;\n",
       "    }\n",
       "</style>\n",
       "<table border=\"1\" class=\"dataframe\">\n",
       "  <thead>\n",
       "    <tr style=\"text-align: right;\">\n",
       "      <th></th>\n",
       "      <th>Text</th>\n",
       "      <th>P_words</th>\n",
       "    </tr>\n",
       "  </thead>\n",
       "  <tbody>\n",
       "    <tr>\n",
       "      <th>0</th>\n",
       "      <td>Hello, how are you?</td>\n",
       "      <td>[]</td>\n",
       "    </tr>\n",
       "    <tr>\n",
       "      <th>1</th>\n",
       "      <td>Pandas is great!</td>\n",
       "      <td>[Pandas]</td>\n",
       "    </tr>\n",
       "    <tr>\n",
       "      <th>2</th>\n",
       "      <td>Text data Handling in Python is useful</td>\n",
       "      <td>[Python]</td>\n",
       "    </tr>\n",
       "  </tbody>\n",
       "</table>\n",
       "</div>"
      ],
      "text/plain": [
       "                                     Text   P_words\n",
       "0                     Hello, how are you?        []\n",
       "1                        Pandas is great!  [Pandas]\n",
       "2  Text data Handling in Python is useful  [Python]"
      ]
     },
     "execution_count": 5,
     "metadata": {},
     "output_type": "execute_result"
    }
   ],
   "source": [
    "df2['P_words']=df2['Text'].str.split().apply(lambda x: [word for word in x if word.startswith('P')])  #x is treat as list of values in col Words word is particular value in list. apply function is use to apply lambda function to each row \n",
    "df2"
   ]
  },
  {
   "cell_type": "code",
   "execution_count": 7,
   "id": "2b1258d1-d6cd-4dd6-9366-6c602083287c",
   "metadata": {},
   "outputs": [
    {
     "data": {
      "text/html": [
       "<div>\n",
       "<style scoped>\n",
       "    .dataframe tbody tr th:only-of-type {\n",
       "        vertical-align: middle;\n",
       "    }\n",
       "\n",
       "    .dataframe tbody tr th {\n",
       "        vertical-align: top;\n",
       "    }\n",
       "\n",
       "    .dataframe thead th {\n",
       "        text-align: right;\n",
       "    }\n",
       "</style>\n",
       "<table border=\"1\" class=\"dataframe\">\n",
       "  <thead>\n",
       "    <tr style=\"text-align: right;\">\n",
       "      <th></th>\n",
       "      <th>Text</th>\n",
       "      <th>P_words</th>\n",
       "      <th>n_words</th>\n",
       "    </tr>\n",
       "  </thead>\n",
       "  <tbody>\n",
       "    <tr>\n",
       "      <th>0</th>\n",
       "      <td>Hello, how are you?</td>\n",
       "      <td>[]</td>\n",
       "      <td>[]</td>\n",
       "    </tr>\n",
       "    <tr>\n",
       "      <th>1</th>\n",
       "      <td>Pandas is great!</td>\n",
       "      <td>[Pandas]</td>\n",
       "      <td>[]</td>\n",
       "    </tr>\n",
       "    <tr>\n",
       "      <th>2</th>\n",
       "      <td>Text data Handling in Python is useful</td>\n",
       "      <td>[Python]</td>\n",
       "      <td>[in, Python]</td>\n",
       "    </tr>\n",
       "  </tbody>\n",
       "</table>\n",
       "</div>"
      ],
      "text/plain": [
       "                                     Text   P_words       n_words\n",
       "0                     Hello, how are you?        []            []\n",
       "1                        Pandas is great!  [Pandas]            []\n",
       "2  Text data Handling in Python is useful  [Python]  [in, Python]"
      ]
     },
     "execution_count": 7,
     "metadata": {},
     "output_type": "execute_result"
    }
   ],
   "source": [
    "df2['n_words']=df2['Text'].str.split().apply(lambda x: [word for word in x if word.endswith('n')])  #x is treat as list of values in col Words word is particular value in list. apply function is use to apply lambda function to each row \n",
    "df2"
   ]
  },
  {
   "cell_type": "code",
   "execution_count": 8,
   "id": "ce62011e-70db-442c-beae-37b8a2882a6a",
   "metadata": {},
   "outputs": [
    {
     "data": {
      "text/html": [
       "<div>\n",
       "<style scoped>\n",
       "    .dataframe tbody tr th:only-of-type {\n",
       "        vertical-align: middle;\n",
       "    }\n",
       "\n",
       "    .dataframe tbody tr th {\n",
       "        vertical-align: top;\n",
       "    }\n",
       "\n",
       "    .dataframe thead th {\n",
       "        text-align: right;\n",
       "    }\n",
       "</style>\n",
       "<table border=\"1\" class=\"dataframe\">\n",
       "  <thead>\n",
       "    <tr style=\"text-align: right;\">\n",
       "      <th></th>\n",
       "      <th>Text</th>\n",
       "      <th>P_words</th>\n",
       "      <th>n_words</th>\n",
       "    </tr>\n",
       "  </thead>\n",
       "  <tbody>\n",
       "    <tr>\n",
       "      <th>0</th>\n",
       "      <td>None</td>\n",
       "      <td>None</td>\n",
       "      <td>None</td>\n",
       "    </tr>\n",
       "  </tbody>\n",
       "</table>\n",
       "</div>"
      ],
      "text/plain": [
       "   Text P_words n_words\n",
       "0  None    None    None"
      ]
     },
     "execution_count": 8,
     "metadata": {},
     "output_type": "execute_result"
    }
   ],
   "source": [
    "new_data = {'Text':[None],'P_words':[None],'n_words':[None]}\n",
    "new_df = pd.DataFrame(new_data)\n",
    "new_df"
   ]
  },
  {
   "cell_type": "code",
   "execution_count": 9,
   "id": "9727facc-82c9-47df-a0d8-97a2882cddb8",
   "metadata": {},
   "outputs": [],
   "source": [
    "df2 = pd.concat([df2,new_df])"
   ]
  },
  {
   "cell_type": "code",
   "execution_count": 21,
   "id": "d297f1eb-cd3b-41a5-ab63-7c00020eb0d8",
   "metadata": {},
   "outputs": [
    {
     "data": {
      "text/html": [
       "<div>\n",
       "<style scoped>\n",
       "    .dataframe tbody tr th:only-of-type {\n",
       "        vertical-align: middle;\n",
       "    }\n",
       "\n",
       "    .dataframe tbody tr th {\n",
       "        vertical-align: top;\n",
       "    }\n",
       "\n",
       "    .dataframe thead th {\n",
       "        text-align: right;\n",
       "    }\n",
       "</style>\n",
       "<table border=\"1\" class=\"dataframe\">\n",
       "  <thead>\n",
       "    <tr style=\"text-align: right;\">\n",
       "      <th></th>\n",
       "      <th>index</th>\n",
       "      <th>Text</th>\n",
       "      <th>P_words</th>\n",
       "      <th>n_words</th>\n",
       "    </tr>\n",
       "  </thead>\n",
       "  <tbody>\n",
       "    <tr>\n",
       "      <th>0</th>\n",
       "      <td>0</td>\n",
       "      <td>Hello, how are you?</td>\n",
       "      <td>[]</td>\n",
       "      <td>[]</td>\n",
       "    </tr>\n",
       "    <tr>\n",
       "      <th>1</th>\n",
       "      <td>1</td>\n",
       "      <td>Pandas is great!</td>\n",
       "      <td>[Pandas]</td>\n",
       "      <td>[]</td>\n",
       "    </tr>\n",
       "    <tr>\n",
       "      <th>2</th>\n",
       "      <td>2</td>\n",
       "      <td>Text data Handling in Python is useful</td>\n",
       "      <td>[Python]</td>\n",
       "      <td>[in, Python]</td>\n",
       "    </tr>\n",
       "    <tr>\n",
       "      <th>3</th>\n",
       "      <td>0</td>\n",
       "      <td>No text availale</td>\n",
       "      <td>No text availale</td>\n",
       "      <td>No text availale</td>\n",
       "    </tr>\n",
       "  </tbody>\n",
       "</table>\n",
       "</div>"
      ],
      "text/plain": [
       "   index                                    Text           P_words  \\\n",
       "0      0                     Hello, how are you?                []   \n",
       "1      1                        Pandas is great!          [Pandas]   \n",
       "2      2  Text data Handling in Python is useful          [Python]   \n",
       "3      0                        No text availale  No text availale   \n",
       "\n",
       "            n_words  \n",
       "0                []  \n",
       "1                []  \n",
       "2      [in, Python]  \n",
       "3  No text availale  "
      ]
     },
     "execution_count": 21,
     "metadata": {},
     "output_type": "execute_result"
    }
   ],
   "source": [
    "df2"
   ]
  },
  {
   "cell_type": "code",
   "execution_count": 11,
   "id": "846e3cbc-0073-4a27-9fcc-2c86f76e72f8",
   "metadata": {},
   "outputs": [],
   "source": [
    "df2.reset_index(inplace=True)"
   ]
  },
  {
   "cell_type": "code",
   "execution_count": 20,
   "id": "77f68725-b17e-4a90-abd4-93e8eafc0a1e",
   "metadata": {},
   "outputs": [],
   "source": [
    "df2.reset_index(drop=True,inplace=True)"
   ]
  },
  {
   "cell_type": "code",
   "execution_count": 36,
   "id": "cb6eda85-10da-4d21-8d3c-81c62a76a29b",
   "metadata": {},
   "outputs": [],
   "source": [
    "df2.drop([4,5,6],inplace=True)"
   ]
  },
  {
   "cell_type": "code",
   "execution_count": 14,
   "id": "6f5b87b2-35bc-4f0b-bb8a-41983844636f",
   "metadata": {},
   "outputs": [
    {
     "data": {
      "text/html": [
       "<div>\n",
       "<style scoped>\n",
       "    .dataframe tbody tr th:only-of-type {\n",
       "        vertical-align: middle;\n",
       "    }\n",
       "\n",
       "    .dataframe tbody tr th {\n",
       "        vertical-align: top;\n",
       "    }\n",
       "\n",
       "    .dataframe thead th {\n",
       "        text-align: right;\n",
       "    }\n",
       "</style>\n",
       "<table border=\"1\" class=\"dataframe\">\n",
       "  <thead>\n",
       "    <tr style=\"text-align: right;\">\n",
       "      <th></th>\n",
       "      <th>index</th>\n",
       "      <th>Text</th>\n",
       "      <th>P_words</th>\n",
       "      <th>n_words</th>\n",
       "    </tr>\n",
       "  </thead>\n",
       "  <tbody>\n",
       "    <tr>\n",
       "      <th>0</th>\n",
       "      <td>0</td>\n",
       "      <td>Hello, how are you?</td>\n",
       "      <td>[]</td>\n",
       "      <td>[]</td>\n",
       "    </tr>\n",
       "    <tr>\n",
       "      <th>1</th>\n",
       "      <td>1</td>\n",
       "      <td>Pandas is great!</td>\n",
       "      <td>[Pandas]</td>\n",
       "      <td>[]</td>\n",
       "    </tr>\n",
       "    <tr>\n",
       "      <th>2</th>\n",
       "      <td>2</td>\n",
       "      <td>Text data Handling in Python is useful</td>\n",
       "      <td>[Python]</td>\n",
       "      <td>[in, Python]</td>\n",
       "    </tr>\n",
       "    <tr>\n",
       "      <th>3</th>\n",
       "      <td>0</td>\n",
       "      <td>None</td>\n",
       "      <td>None</td>\n",
       "      <td>None</td>\n",
       "    </tr>\n",
       "  </tbody>\n",
       "</table>\n",
       "</div>"
      ],
      "text/plain": [
       "   index                                    Text   P_words       n_words\n",
       "0      0                     Hello, how are you?        []            []\n",
       "1      1                        Pandas is great!  [Pandas]            []\n",
       "2      2  Text data Handling in Python is useful  [Python]  [in, Python]\n",
       "3      0                                    None      None          None"
      ]
     },
     "execution_count": 14,
     "metadata": {},
     "output_type": "execute_result"
    }
   ],
   "source": [
    "df2"
   ]
  },
  {
   "cell_type": "code",
   "execution_count": 15,
   "id": "8faeae19-f348-49dc-8f72-b829902a0eb9",
   "metadata": {},
   "outputs": [
    {
     "data": {
      "text/html": [
       "<div>\n",
       "<style scoped>\n",
       "    .dataframe tbody tr th:only-of-type {\n",
       "        vertical-align: middle;\n",
       "    }\n",
       "\n",
       "    .dataframe tbody tr th {\n",
       "        vertical-align: top;\n",
       "    }\n",
       "\n",
       "    .dataframe thead th {\n",
       "        text-align: right;\n",
       "    }\n",
       "</style>\n",
       "<table border=\"1\" class=\"dataframe\">\n",
       "  <thead>\n",
       "    <tr style=\"text-align: right;\">\n",
       "      <th></th>\n",
       "      <th>index</th>\n",
       "      <th>Text</th>\n",
       "      <th>P_words</th>\n",
       "      <th>n_words</th>\n",
       "    </tr>\n",
       "  </thead>\n",
       "  <tbody>\n",
       "    <tr>\n",
       "      <th>0</th>\n",
       "      <td>0</td>\n",
       "      <td>Hello, how are you?</td>\n",
       "      <td>[]</td>\n",
       "      <td>[]</td>\n",
       "    </tr>\n",
       "    <tr>\n",
       "      <th>1</th>\n",
       "      <td>1</td>\n",
       "      <td>Pandas is great!</td>\n",
       "      <td>[Pandas]</td>\n",
       "      <td>[]</td>\n",
       "    </tr>\n",
       "    <tr>\n",
       "      <th>2</th>\n",
       "      <td>2</td>\n",
       "      <td>Text data Handling in Python is useful</td>\n",
       "      <td>[Python]</td>\n",
       "      <td>[in, Python]</td>\n",
       "    </tr>\n",
       "    <tr>\n",
       "      <th>3</th>\n",
       "      <td>0</td>\n",
       "      <td>No text availale</td>\n",
       "      <td>No text availale</td>\n",
       "      <td>No text availale</td>\n",
       "    </tr>\n",
       "  </tbody>\n",
       "</table>\n",
       "</div>"
      ],
      "text/plain": [
       "   index                                    Text           P_words  \\\n",
       "0      0                     Hello, how are you?                []   \n",
       "1      1                        Pandas is great!          [Pandas]   \n",
       "2      2  Text data Handling in Python is useful          [Python]   \n",
       "3      0                        No text availale  No text availale   \n",
       "\n",
       "            n_words  \n",
       "0                []  \n",
       "1                []  \n",
       "2      [in, Python]  \n",
       "3  No text availale  "
      ]
     },
     "execution_count": 15,
     "metadata": {},
     "output_type": "execute_result"
    }
   ],
   "source": [
    "df2.fillna('No text availale',inplace=True)\n",
    "df2"
   ]
  },
  {
   "cell_type": "code",
   "execution_count": null,
   "id": "68d88b8b-eca2-4830-936e-f08098fd2a8a",
   "metadata": {},
   "outputs": [],
   "source": [
    "df2.drop_duplicates(subset= 'Text') #here column Text is pass as subset. subset helps to focus on specific columns for duplicate removal."
   ]
  },
  {
   "cell_type": "code",
   "execution_count": 22,
   "id": "659ee1ee-f67f-4e2f-9c7a-a8a71fa2c535",
   "metadata": {},
   "outputs": [
    {
     "data": {
      "text/html": [
       "<div>\n",
       "<style scoped>\n",
       "    .dataframe tbody tr th:only-of-type {\n",
       "        vertical-align: middle;\n",
       "    }\n",
       "\n",
       "    .dataframe tbody tr th {\n",
       "        vertical-align: top;\n",
       "    }\n",
       "\n",
       "    .dataframe thead th {\n",
       "        text-align: right;\n",
       "    }\n",
       "</style>\n",
       "<table border=\"1\" class=\"dataframe\">\n",
       "  <thead>\n",
       "    <tr style=\"text-align: right;\">\n",
       "      <th></th>\n",
       "      <th>index</th>\n",
       "      <th>Text</th>\n",
       "      <th>P_words</th>\n",
       "      <th>n_words</th>\n",
       "      <th>Normalized</th>\n",
       "    </tr>\n",
       "  </thead>\n",
       "  <tbody>\n",
       "    <tr>\n",
       "      <th>0</th>\n",
       "      <td>0</td>\n",
       "      <td>Hello, how are you?</td>\n",
       "      <td>[]</td>\n",
       "      <td>[]</td>\n",
       "      <td>hello, how are you?</td>\n",
       "    </tr>\n",
       "    <tr>\n",
       "      <th>1</th>\n",
       "      <td>1</td>\n",
       "      <td>Pandas is great!</td>\n",
       "      <td>[Pandas]</td>\n",
       "      <td>[]</td>\n",
       "      <td>pandas is great!</td>\n",
       "    </tr>\n",
       "    <tr>\n",
       "      <th>2</th>\n",
       "      <td>2</td>\n",
       "      <td>Text data Handling in Python is useful</td>\n",
       "      <td>[Python]</td>\n",
       "      <td>[in, Python]</td>\n",
       "      <td>text data handling in python is useful</td>\n",
       "    </tr>\n",
       "    <tr>\n",
       "      <th>3</th>\n",
       "      <td>0</td>\n",
       "      <td>No text availale</td>\n",
       "      <td>No text availale</td>\n",
       "      <td>No text availale</td>\n",
       "      <td>no text availale</td>\n",
       "    </tr>\n",
       "  </tbody>\n",
       "</table>\n",
       "</div>"
      ],
      "text/plain": [
       "   index                                    Text           P_words  \\\n",
       "0      0                     Hello, how are you?                []   \n",
       "1      1                        Pandas is great!          [Pandas]   \n",
       "2      2  Text data Handling in Python is useful          [Python]   \n",
       "3      0                        No text availale  No text availale   \n",
       "\n",
       "            n_words                              Normalized  \n",
       "0                []                     hello, how are you?  \n",
       "1                []                        pandas is great!  \n",
       "2      [in, Python]  text data handling in python is useful  \n",
       "3  No text availale                        no text availale  "
      ]
     },
     "execution_count": 22,
     "metadata": {},
     "output_type": "execute_result"
    }
   ],
   "source": [
    "#how to normalize the text.\n",
    "df2['Normalized'] = df2['Text'].str.lower()\n",
    "df2"
   ]
  },
  {
   "cell_type": "code",
   "execution_count": 23,
   "id": "c6b137e5-d1cc-4c4c-a776-8389c4bb9580",
   "metadata": {},
   "outputs": [
    {
     "data": {
      "text/html": [
       "<div>\n",
       "<style scoped>\n",
       "    .dataframe tbody tr th:only-of-type {\n",
       "        vertical-align: middle;\n",
       "    }\n",
       "\n",
       "    .dataframe tbody tr th {\n",
       "        vertical-align: top;\n",
       "    }\n",
       "\n",
       "    .dataframe thead th {\n",
       "        text-align: right;\n",
       "    }\n",
       "</style>\n",
       "<table border=\"1\" class=\"dataframe\">\n",
       "  <thead>\n",
       "    <tr style=\"text-align: right;\">\n",
       "      <th></th>\n",
       "      <th>index</th>\n",
       "      <th>Text</th>\n",
       "      <th>P_words</th>\n",
       "      <th>n_words</th>\n",
       "      <th>Normalized</th>\n",
       "    </tr>\n",
       "  </thead>\n",
       "  <tbody>\n",
       "    <tr>\n",
       "      <th>0</th>\n",
       "      <td>0</td>\n",
       "      <td>Hello, how are you?</td>\n",
       "      <td>[]</td>\n",
       "      <td>[]</td>\n",
       "      <td>hello, how are you?</td>\n",
       "    </tr>\n",
       "    <tr>\n",
       "      <th>3</th>\n",
       "      <td>0</td>\n",
       "      <td>No text availale</td>\n",
       "      <td>No text availale</td>\n",
       "      <td>No text availale</td>\n",
       "      <td>no text availale</td>\n",
       "    </tr>\n",
       "    <tr>\n",
       "      <th>1</th>\n",
       "      <td>1</td>\n",
       "      <td>Pandas is great!</td>\n",
       "      <td>[Pandas]</td>\n",
       "      <td>[]</td>\n",
       "      <td>pandas is great!</td>\n",
       "    </tr>\n",
       "    <tr>\n",
       "      <th>2</th>\n",
       "      <td>2</td>\n",
       "      <td>Text data Handling in Python is useful</td>\n",
       "      <td>[Python]</td>\n",
       "      <td>[in, Python]</td>\n",
       "      <td>text data handling in python is useful</td>\n",
       "    </tr>\n",
       "  </tbody>\n",
       "</table>\n",
       "</div>"
      ],
      "text/plain": [
       "   index                                    Text           P_words  \\\n",
       "0      0                     Hello, how are you?                []   \n",
       "3      0                        No text availale  No text availale   \n",
       "1      1                        Pandas is great!          [Pandas]   \n",
       "2      2  Text data Handling in Python is useful          [Python]   \n",
       "\n",
       "            n_words                              Normalized  \n",
       "0                []                     hello, how are you?  \n",
       "3  No text availale                        no text availale  \n",
       "1                []                        pandas is great!  \n",
       "2      [in, Python]  text data handling in python is useful  "
      ]
     },
     "execution_count": 23,
     "metadata": {},
     "output_type": "execute_result"
    }
   ],
   "source": [
    "df2.sort_values(by = 'Text')  # sort the values alphabeticially in Text coloumn."
   ]
  },
  {
   "cell_type": "code",
   "execution_count": 26,
   "id": "c6095e6b-c2e7-47b6-b748-ced79b559f56",
   "metadata": {},
   "outputs": [
    {
     "data": {
      "text/html": [
       "<div>\n",
       "<style scoped>\n",
       "    .dataframe tbody tr th:only-of-type {\n",
       "        vertical-align: middle;\n",
       "    }\n",
       "\n",
       "    .dataframe tbody tr th {\n",
       "        vertical-align: top;\n",
       "    }\n",
       "\n",
       "    .dataframe thead th {\n",
       "        text-align: right;\n",
       "    }\n",
       "</style>\n",
       "<table border=\"1\" class=\"dataframe\">\n",
       "  <thead>\n",
       "    <tr style=\"text-align: right;\">\n",
       "      <th></th>\n",
       "      <th>index</th>\n",
       "      <th>Text</th>\n",
       "      <th>P_words</th>\n",
       "      <th>n_words</th>\n",
       "      <th>Normalized</th>\n",
       "      <th>newnormalized</th>\n",
       "    </tr>\n",
       "  </thead>\n",
       "  <tbody>\n",
       "    <tr>\n",
       "      <th>0</th>\n",
       "      <td>0</td>\n",
       "      <td>Hello, how are you?</td>\n",
       "      <td>[]</td>\n",
       "      <td>[]</td>\n",
       "      <td>hello, how are you?</td>\n",
       "      <td>Hello, how are you?</td>\n",
       "    </tr>\n",
       "    <tr>\n",
       "      <th>1</th>\n",
       "      <td>1</td>\n",
       "      <td>Pandas is great!</td>\n",
       "      <td>[Pandas]</td>\n",
       "      <td>[]</td>\n",
       "      <td>pandas is great!</td>\n",
       "      <td>Pandas is great!</td>\n",
       "    </tr>\n",
       "    <tr>\n",
       "      <th>2</th>\n",
       "      <td>2</td>\n",
       "      <td>Text data Handling in Python is useful</td>\n",
       "      <td>[Python]</td>\n",
       "      <td>[in, Python]</td>\n",
       "      <td>text data handling in python is useful</td>\n",
       "      <td>Text data handling in python is useful</td>\n",
       "    </tr>\n",
       "    <tr>\n",
       "      <th>3</th>\n",
       "      <td>0</td>\n",
       "      <td>No text availale</td>\n",
       "      <td>No text availale</td>\n",
       "      <td>No text availale</td>\n",
       "      <td>no text availale</td>\n",
       "      <td>No text availale</td>\n",
       "    </tr>\n",
       "  </tbody>\n",
       "</table>\n",
       "</div>"
      ],
      "text/plain": [
       "   index                                    Text           P_words  \\\n",
       "0      0                     Hello, how are you?                []   \n",
       "1      1                        Pandas is great!          [Pandas]   \n",
       "2      2  Text data Handling in Python is useful          [Python]   \n",
       "3      0                        No text availale  No text availale   \n",
       "\n",
       "            n_words                              Normalized  \\\n",
       "0                []                     hello, how are you?   \n",
       "1                []                        pandas is great!   \n",
       "2      [in, Python]  text data handling in python is useful   \n",
       "3  No text availale                        no text availale   \n",
       "\n",
       "                            newnormalized  \n",
       "0                     Hello, how are you?  \n",
       "1                        Pandas is great!  \n",
       "2  Text data handling in python is useful  \n",
       "3                        No text availale  "
      ]
     },
     "execution_count": 26,
     "metadata": {},
     "output_type": "execute_result"
    }
   ],
   "source": [
    "df2['newnormalized']=df2['Normalized'].str.capitalize() #here .str is use to apply string methods to an entire Panda Series.\n",
    "df2"
   ]
  },
  {
   "cell_type": "code",
   "execution_count": 27,
   "id": "821332e7-96d4-44d8-9eaf-471f3c4d155d",
   "metadata": {},
   "outputs": [
    {
     "data": {
      "text/plain": [
       "['No', 'text', 'availale']"
      ]
     },
     "execution_count": 27,
     "metadata": {},
     "output_type": "execute_result"
    }
   ],
   "source": [
    "# to split particular value in column.\n",
    "df2['Text'][3].split()\n"
   ]
  },
  {
   "cell_type": "code",
   "execution_count": 28,
   "id": "ecd43b75-001d-4738-acd9-3b7d15adcfc5",
   "metadata": {},
   "outputs": [
    {
     "data": {
      "text/plain": [
       "['Text data ', 'andling in Python is useful']"
      ]
     },
     "execution_count": 28,
     "metadata": {},
     "output_type": "execute_result"
    }
   ],
   "source": [
    "#if i want to split using some parameter\n",
    "df2['Text'][2].split('H')"
   ]
  },
  {
   "cell_type": "code",
   "execution_count": 33,
   "id": "fcfd60a9-a018-4364-a27f-0811e5d80c67",
   "metadata": {},
   "outputs": [
    {
     "data": {
      "text/html": [
       "<div>\n",
       "<style scoped>\n",
       "    .dataframe tbody tr th:only-of-type {\n",
       "        vertical-align: middle;\n",
       "    }\n",
       "\n",
       "    .dataframe tbody tr th {\n",
       "        vertical-align: top;\n",
       "    }\n",
       "\n",
       "    .dataframe thead th {\n",
       "        text-align: right;\n",
       "    }\n",
       "</style>\n",
       "<table border=\"1\" class=\"dataframe\">\n",
       "  <thead>\n",
       "    <tr style=\"text-align: right;\">\n",
       "      <th></th>\n",
       "      <th>headline</th>\n",
       "    </tr>\n",
       "  </thead>\n",
       "  <tbody>\n",
       "    <tr>\n",
       "      <th>0</th>\n",
       "      <td>Breaking: New discovery in science</td>\n",
       "    </tr>\n",
       "    <tr>\n",
       "      <th>1</th>\n",
       "      <td>Politics: Election result annnounced</td>\n",
       "    </tr>\n",
       "    <tr>\n",
       "      <th>2</th>\n",
       "      <td>Technology: AI revolutionizing industries</td>\n",
       "    </tr>\n",
       "  </tbody>\n",
       "</table>\n",
       "</div>"
      ],
      "text/plain": [
       "                                    headline\n",
       "0         Breaking: New discovery in science\n",
       "1      Politics: Election result annnounced \n",
       "2  Technology: AI revolutionizing industries"
      ]
     },
     "execution_count": 33,
     "metadata": {},
     "output_type": "execute_result"
    }
   ],
   "source": [
    "data10 = {'headline': ['Breaking: New discovery in science','Politics: Election result annnounced ','Technology: AI revolutionizing industries']}\n",
    "df10=pd.DataFrame(data10)\n",
    "df10"
   ]
  },
  {
   "cell_type": "code",
   "execution_count": 41,
   "id": "0056e4e6-2f2a-4ce2-b21c-884adecd4d3a",
   "metadata": {},
   "outputs": [
    {
     "name": "stdout",
     "output_type": "stream",
     "text": [
      "Breaking\n"
     ]
    }
   ],
   "source": [
    "print(df10['headline'][0].split(':')[0])"
   ]
  },
  {
   "cell_type": "code",
   "execution_count": 44,
   "id": "bbb1e7e7-9f50-41dc-8a34-e0746932ccd9",
   "metadata": {},
   "outputs": [
    {
     "data": {
      "text/html": [
       "<div>\n",
       "<style scoped>\n",
       "    .dataframe tbody tr th:only-of-type {\n",
       "        vertical-align: middle;\n",
       "    }\n",
       "\n",
       "    .dataframe tbody tr th {\n",
       "        vertical-align: top;\n",
       "    }\n",
       "\n",
       "    .dataframe thead th {\n",
       "        text-align: right;\n",
       "    }\n",
       "</style>\n",
       "<table border=\"1\" class=\"dataframe\">\n",
       "  <thead>\n",
       "    <tr style=\"text-align: right;\">\n",
       "      <th></th>\n",
       "      <th>headline</th>\n",
       "      <th>Cateogory</th>\n",
       "    </tr>\n",
       "  </thead>\n",
       "  <tbody>\n",
       "    <tr>\n",
       "      <th>0</th>\n",
       "      <td>Breaking: New discovery in science</td>\n",
       "      <td>Breaking</td>\n",
       "    </tr>\n",
       "    <tr>\n",
       "      <th>1</th>\n",
       "      <td>Politics: Election result annnounced</td>\n",
       "      <td>Politics</td>\n",
       "    </tr>\n",
       "    <tr>\n",
       "      <th>2</th>\n",
       "      <td>Technology: AI revolutionizing industries</td>\n",
       "      <td>Technology</td>\n",
       "    </tr>\n",
       "  </tbody>\n",
       "</table>\n",
       "</div>"
      ],
      "text/plain": [
       "                                    headline   Cateogory\n",
       "0         Breaking: New discovery in science    Breaking\n",
       "1      Politics: Election result annnounced     Politics\n",
       "2  Technology: AI revolutionizing industries  Technology"
      ]
     },
     "execution_count": 44,
     "metadata": {},
     "output_type": "execute_result"
    }
   ],
   "source": [
    "df10['Cateogory'] = df10['headline'].str.split(':').str[0]\n",
    "df10"
   ]
  },
  {
   "cell_type": "code",
   "execution_count": 46,
   "id": "580e0e07-8614-4191-a214-b829ef85c526",
   "metadata": {},
   "outputs": [
    {
     "data": {
      "text/plain": [
       "'Pandas is a powerful library for data maipulation. Pandas provides easy-to-use data structures.'"
      ]
     },
     "execution_count": 46,
     "metadata": {},
     "output_type": "execute_result"
    }
   ],
   "source": [
    "Article = 'Pandas is a powerful library for data maipulation. Pandas provides easy-to-use data structures.'\n",
    "Article"
   ]
  },
  {
   "cell_type": "code",
   "execution_count": 48,
   "id": "f967315a-a372-4ff6-afbb-7e451fa8b42e",
   "metadata": {},
   "outputs": [
    {
     "data": {
      "text/plain": [
       "['Pandas',\n",
       " 'is',\n",
       " 'a',\n",
       " 'powerful',\n",
       " 'library',\n",
       " 'for',\n",
       " 'data',\n",
       " 'maipulation.',\n",
       " 'Pandas',\n",
       " 'provides',\n",
       " 'easy-to-use',\n",
       " 'data',\n",
       " 'structures.']"
      ]
     },
     "execution_count": 48,
     "metadata": {},
     "output_type": "execute_result"
    }
   ],
   "source": [
    "Words = Article.split()\n",
    "Words"
   ]
  },
  {
   "cell_type": "code",
   "execution_count": 49,
   "id": "8e9ea8b5-8c74-4442-b625-1e09e794b96e",
   "metadata": {},
   "outputs": [
    {
     "data": {
      "text/plain": [
       "0           Pandas\n",
       "1               is\n",
       "2                a\n",
       "3         powerful\n",
       "4          library\n",
       "5              for\n",
       "6             data\n",
       "7     maipulation.\n",
       "8           Pandas\n",
       "9         provides\n",
       "10     easy-to-use\n",
       "11            data\n",
       "12     structures.\n",
       "dtype: object"
      ]
     },
     "execution_count": 49,
     "metadata": {},
     "output_type": "execute_result"
    }
   ],
   "source": [
    "ds = pd.Series(Words)\n",
    "ds"
   ]
  },
  {
   "cell_type": "code",
   "execution_count": 52,
   "id": "4aa75c3e-d47c-47e7-9b70-fffa7e2f3f85",
   "metadata": {},
   "outputs": [
    {
     "data": {
      "text/plain": [
       "Pandas          2\n",
       "data            2\n",
       "is              1\n",
       "a               1\n",
       "powerful        1\n",
       "library         1\n",
       "for             1\n",
       "maipulation.    1\n",
       "provides        1\n",
       "easy-to-use     1\n",
       "structures.     1\n",
       "Name: count, dtype: int64"
      ]
     },
     "execution_count": 52,
     "metadata": {},
     "output_type": "execute_result"
    }
   ],
   "source": [
    "#find occurence of values in a series using value_counts function.\n",
    "ds.value_counts()"
   ]
  },
  {
   "cell_type": "code",
   "execution_count": 3,
   "id": "980128c9-c67d-4404-932d-ef775f2349ae",
   "metadata": {},
   "outputs": [
    {
     "data": {
      "text/plain": [
       "['The product is fantastic and worth the price.',\n",
       " 'Okay product, but could be better.',\n",
       " 'Terrible product, not recommended.']"
      ]
     },
     "execution_count": 3,
     "metadata": {},
     "output_type": "execute_result"
    }
   ],
   "source": [
    "# imagine a customer reviews i want to do sentiment analysis on it. \n",
    "# first we have to import TextBlob(it is NLP(Natuarl language Processing) Library which will simplify text processig for you.)\n",
    "reviews = [\n",
    "    \"The product is fantastic and worth the price.\",\n",
    "    \"Okay product, but could be better.\",\n",
    "    \"Terrible product, not recommended.\"\n",
    "]\n",
    "reviews"
   ]
  },
  {
   "cell_type": "code",
   "execution_count": null,
   "id": "16b8d0b7-555f-4450-8051-0f6175e99efd",
   "metadata": {},
   "outputs": [],
   "source": [
    "# sentiment is the emotion of human.\n",
    "# we have to iterate the review of particuar customer and calculate sentiment of review using TextBlob\n",
    "# TextBlob is use to calaculate polarity or sentiment polarity in which o/p comes to b/w range of values(-1,1)\n",
    "# if o/p comes near to -1 then it means that it is negative sentiment. 0 or near to it refer to neutral similarly for 1 or near to it refer positive sentiment."
   ]
  },
  {
   "cell_type": "code",
   "execution_count": 1,
   "id": "f3dfab01-18de-457e-873b-dcba4bba122f",
   "metadata": {},
   "outputs": [],
   "source": [
    "from textblob import TextBlob"
   ]
  },
  {
   "cell_type": "code",
   "execution_count": 5,
   "id": "ad54e9b4-eda9-4956-be74-fe8b1c3d6448",
   "metadata": {},
   "outputs": [
    {
     "data": {
      "text/plain": [
       "[0.35, 0.5, -1.0]"
      ]
     },
     "execution_count": 5,
     "metadata": {},
     "output_type": "execute_result"
    }
   ],
   "source": [
    "sentiments = [TextBlob(review).sentiment.polarity for review in reviews]\n",
    "sentiments"
   ]
  }
 ],
 "metadata": {
  "kernelspec": {
   "display_name": "Python 3 (ipykernel)",
   "language": "python",
   "name": "python3"
  },
  "language_info": {
   "codemirror_mode": {
    "name": "ipython",
    "version": 3
   },
   "file_extension": ".py",
   "mimetype": "text/x-python",
   "name": "python",
   "nbconvert_exporter": "python",
   "pygments_lexer": "ipython3",
   "version": "3.12.1"
  }
 },
 "nbformat": 4,
 "nbformat_minor": 5
}
