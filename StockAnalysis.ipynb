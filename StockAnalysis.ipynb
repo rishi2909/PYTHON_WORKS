{
 "cells": [
  {
   "cell_type": "code",
   "execution_count": 3,
   "id": "c115caf8-7497-4478-ace4-1aea917ef312",
   "metadata": {},
   "outputs": [
    {
     "name": "stdout",
     "output_type": "stream",
     "text": [
      "               Timestamp  Price\n",
      "0    2025-01-01 00:00:00     87\n",
      "1    2025-01-01 00:01:00     87\n",
      "2    2025-01-01 00:02:00     95\n",
      "3    2025-01-01 00:03:00     95\n",
      "4    2025-01-01 00:04:00     62\n",
      "...                  ...    ...\n",
      "1436 2025-01-01 23:56:00     86\n",
      "1437 2025-01-01 23:57:00    110\n",
      "1438 2025-01-01 23:58:00    101\n",
      "1439 2025-01-01 23:59:00     85\n",
      "1440 2025-01-02 00:00:00     68\n",
      "\n",
      "[1441 rows x 2 columns]\n"
     ]
    }
   ],
   "source": [
    "import numpy as np\n",
    "import pandas as pd\n",
    "# i have a high ferquency stock data \n",
    "np.random.seed(30)\n",
    "date_rge = pd.date_range(start='2025-01-01', end='2025-01-02', freq = 'min')\n",
    "stock_prices = pd.DataFrame({'Timestamp':date_rge,'Price':np.random.randint(50,150, len(date_rge))})\n",
    "print(stock_prices)"
   ]
  },
  {
   "cell_type": "code",
   "execution_count": 4,
   "id": "2c707563-f84d-4ecd-a907-468f8632a2e3",
   "metadata": {},
   "outputs": [],
   "source": [
    "stock_prices.set_index('Timestamp',inplace=True)"
   ]
  },
  {
   "cell_type": "code",
   "execution_count": 5,
   "id": "092bd3f2-81b0-4cd4-904b-b553b1a8130c",
   "metadata": {},
   "outputs": [
    {
     "name": "stdout",
     "output_type": "stream",
     "text": [
      "                    Price               \n",
      "                     open high low close\n",
      "Timestamp                               \n",
      "2025-01-01 00:00:00    87  145  52    76\n",
      "2025-01-01 01:00:00   128  148  54   133\n",
      "2025-01-01 02:00:00   148  149  50   131\n",
      "2025-01-01 03:00:00    67  149  53    73\n",
      "2025-01-01 04:00:00    91  149  55   134\n",
      "2025-01-01 05:00:00    90  145  51   141\n",
      "2025-01-01 06:00:00   144  147  51    64\n",
      "2025-01-01 07:00:00   126  149  51   103\n",
      "2025-01-01 08:00:00   114  149  51   118\n",
      "2025-01-01 09:00:00    69  149  54    98\n",
      "2025-01-01 10:00:00   132  148  50    94\n",
      "2025-01-01 11:00:00   137  149  50   140\n",
      "2025-01-01 12:00:00   110  149  52   113\n",
      "2025-01-01 13:00:00    60  149  51    73\n",
      "2025-01-01 14:00:00   127  149  51    91\n",
      "2025-01-01 15:00:00    56  145  55    88\n",
      "2025-01-01 16:00:00   149  149  51    65\n",
      "2025-01-01 17:00:00   115  148  51   108\n",
      "2025-01-01 18:00:00   148  149  54    57\n",
      "2025-01-01 19:00:00   120  149  51   104\n",
      "2025-01-01 20:00:00   123  148  53    77\n",
      "2025-01-01 21:00:00   122  149  57   127\n",
      "2025-01-01 22:00:00    64  146  50   130\n",
      "2025-01-01 23:00:00    61  149  50    85\n",
      "2025-01-02 00:00:00    68   68  68    68\n"
     ]
    }
   ],
   "source": [
    "hourly_stock = stock_prices.resample('h').ohlc()\n",
    "print(hourly_stock)"
   ]
  },
  {
   "cell_type": "code",
   "execution_count": 6,
   "id": "51a83d74-cea8-4743-9bd2-d877ae05abc8",
   "metadata": {},
   "outputs": [
    {
     "name": "stderr",
     "output_type": "stream",
     "text": [
      "[*********************100%***********************]  1 of 1 completed\n"
     ]
    },
    {
     "data": {
      "text/html": [
       "<div>\n",
       "<style scoped>\n",
       "    .dataframe tbody tr th:only-of-type {\n",
       "        vertical-align: middle;\n",
       "    }\n",
       "\n",
       "    .dataframe tbody tr th {\n",
       "        vertical-align: top;\n",
       "    }\n",
       "\n",
       "    .dataframe thead tr th {\n",
       "        text-align: left;\n",
       "    }\n",
       "\n",
       "    .dataframe thead tr:last-of-type th {\n",
       "        text-align: right;\n",
       "    }\n",
       "</style>\n",
       "<table border=\"1\" class=\"dataframe\">\n",
       "  <thead>\n",
       "    <tr>\n",
       "      <th>Price</th>\n",
       "      <th>Close</th>\n",
       "      <th>High</th>\n",
       "      <th>Low</th>\n",
       "      <th>Open</th>\n",
       "      <th>Volume</th>\n",
       "    </tr>\n",
       "    <tr>\n",
       "      <th>Ticker</th>\n",
       "      <th>AAPL</th>\n",
       "      <th>AAPL</th>\n",
       "      <th>AAPL</th>\n",
       "      <th>AAPL</th>\n",
       "      <th>AAPL</th>\n",
       "    </tr>\n",
       "    <tr>\n",
       "      <th>Date</th>\n",
       "      <th></th>\n",
       "      <th></th>\n",
       "      <th></th>\n",
       "      <th></th>\n",
       "      <th></th>\n",
       "    </tr>\n",
       "  </thead>\n",
       "  <tbody>\n",
       "    <tr>\n",
       "      <th>2021-01-04</th>\n",
       "      <td>126.544212</td>\n",
       "      <td>130.651200</td>\n",
       "      <td>123.952895</td>\n",
       "      <td>130.563197</td>\n",
       "      <td>143301900</td>\n",
       "    </tr>\n",
       "    <tr>\n",
       "      <th>2021-01-05</th>\n",
       "      <td>128.108795</td>\n",
       "      <td>128.822640</td>\n",
       "      <td>125.585927</td>\n",
       "      <td>126.035747</td>\n",
       "      <td>97664900</td>\n",
       "    </tr>\n",
       "    <tr>\n",
       "      <th>2021-01-06</th>\n",
       "      <td>123.796455</td>\n",
       "      <td>128.147915</td>\n",
       "      <td>123.581326</td>\n",
       "      <td>124.891656</td>\n",
       "      <td>155088000</td>\n",
       "    </tr>\n",
       "    <tr>\n",
       "      <th>2021-01-07</th>\n",
       "      <td>128.020752</td>\n",
       "      <td>128.715035</td>\n",
       "      <td>125.028519</td>\n",
       "      <td>125.517446</td>\n",
       "      <td>109578200</td>\n",
       "    </tr>\n",
       "    <tr>\n",
       "      <th>2021-01-08</th>\n",
       "      <td>129.125778</td>\n",
       "      <td>129.692936</td>\n",
       "      <td>127.346075</td>\n",
       "      <td>129.497353</td>\n",
       "      <td>105158200</td>\n",
       "    </tr>\n",
       "    <tr>\n",
       "      <th>...</th>\n",
       "      <td>...</td>\n",
       "      <td>...</td>\n",
       "      <td>...</td>\n",
       "      <td>...</td>\n",
       "      <td>...</td>\n",
       "    </tr>\n",
       "    <tr>\n",
       "      <th>2023-01-24</th>\n",
       "      <td>141.046753</td>\n",
       "      <td>141.670202</td>\n",
       "      <td>138.839964</td>\n",
       "      <td>138.849854</td>\n",
       "      <td>66435100</td>\n",
       "    </tr>\n",
       "    <tr>\n",
       "      <th>2023-01-25</th>\n",
       "      <td>140.383713</td>\n",
       "      <td>140.947773</td>\n",
       "      <td>137.365450</td>\n",
       "      <td>139.423806</td>\n",
       "      <td>65799300</td>\n",
       "    </tr>\n",
       "    <tr>\n",
       "      <th>2023-01-26</th>\n",
       "      <td>142.461929</td>\n",
       "      <td>142.748905</td>\n",
       "      <td>140.423353</td>\n",
       "      <td>141.680142</td>\n",
       "      <td>54105100</td>\n",
       "    </tr>\n",
       "    <tr>\n",
       "      <th>2023-01-27</th>\n",
       "      <td>144.411362</td>\n",
       "      <td>145.697836</td>\n",
       "      <td>141.591029</td>\n",
       "      <td>141.670199</td>\n",
       "      <td>70555800</td>\n",
       "    </tr>\n",
       "    <tr>\n",
       "      <th>2023-01-30</th>\n",
       "      <td>141.511871</td>\n",
       "      <td>144.035338</td>\n",
       "      <td>141.363438</td>\n",
       "      <td>143.451481</td>\n",
       "      <td>64015300</td>\n",
       "    </tr>\n",
       "  </tbody>\n",
       "</table>\n",
       "<p>522 rows × 5 columns</p>\n",
       "</div>"
      ],
      "text/plain": [
       "Price            Close        High         Low        Open     Volume\n",
       "Ticker            AAPL        AAPL        AAPL        AAPL       AAPL\n",
       "Date                                                                 \n",
       "2021-01-04  126.544212  130.651200  123.952895  130.563197  143301900\n",
       "2021-01-05  128.108795  128.822640  125.585927  126.035747   97664900\n",
       "2021-01-06  123.796455  128.147915  123.581326  124.891656  155088000\n",
       "2021-01-07  128.020752  128.715035  125.028519  125.517446  109578200\n",
       "2021-01-08  129.125778  129.692936  127.346075  129.497353  105158200\n",
       "...                ...         ...         ...         ...        ...\n",
       "2023-01-24  141.046753  141.670202  138.839964  138.849854   66435100\n",
       "2023-01-25  140.383713  140.947773  137.365450  139.423806   65799300\n",
       "2023-01-26  142.461929  142.748905  140.423353  141.680142   54105100\n",
       "2023-01-27  144.411362  145.697836  141.591029  141.670199   70555800\n",
       "2023-01-30  141.511871  144.035338  141.363438  143.451481   64015300\n",
       "\n",
       "[522 rows x 5 columns]"
      ]
     },
     "execution_count": 6,
     "metadata": {},
     "output_type": "execute_result"
    }
   ],
   "source": [
    "# we have to analyse stock price analysis\n",
    "import yfinance as yf   #  This imports the yfinance library, which allows you to download historical market data from Yahoo Finance.\n",
    "stock_data = yf.download('AAPL', start = '2021-01-01', end = '2023-01-31') # yf.download(): A function used to download historical stock price data from Yahoo Finance, 'AAPL': This is the ticker symbol for Apple Inc. (Yahoo Finance uses ticker symbols to identify companies).\n",
    "stock_data"
   ]
  },
  {
   "cell_type": "code",
   "execution_count": 7,
   "id": "9c193256-491e-4b9e-9083-51310f9b84cf",
   "metadata": {},
   "outputs": [
    {
     "name": "stdout",
     "output_type": "stream",
     "text": [
      "MultiIndex([( 'Close', 'AAPL'),\n",
      "            (  'High', 'AAPL'),\n",
      "            (   'Low', 'AAPL'),\n",
      "            (  'Open', 'AAPL'),\n",
      "            ('Volume', 'AAPL')],\n",
      "           names=['Price', 'Ticker'])\n"
     ]
    }
   ],
   "source": [
    "print(stock_data.columns)"
   ]
  },
  {
   "cell_type": "code",
   "execution_count": 8,
   "id": "11155002-e1fc-4c51-b661-eb2f1adb05a4",
   "metadata": {},
   "outputs": [
    {
     "name": "stdout",
     "output_type": "stream",
     "text": [
      "Ticker            AAPL\n",
      "Date                  \n",
      "2021-01-31  123.581326\n",
      "2021-02-28  115.941258\n",
      "2021-03-31  113.806348\n",
      "2021-04-30  119.956434\n",
      "2021-05-31  119.924754\n",
      "2021-06-30  120.788026\n",
      "2021-07-31  133.177784\n",
      "2021-08-31  141.963950\n",
      "2021-09-30  138.790647\n",
      "2021-10-31  135.843272\n",
      "2021-11-30  145.103091\n",
      "2021-12-31  155.256777\n",
      "2022-01-31  152.206742\n",
      "2022-02-28  149.740807\n",
      "2022-03-31  147.869042\n",
      "2022-04-30  153.070559\n",
      "2022-05-31  130.830940\n",
      "2022-06-30  127.308805\n",
      "2022-07-31  133.840027\n",
      "2022-08-31  155.247195\n",
      "2022-09-30  136.337736\n",
      "2022-10-31  132.751431\n",
      "2022-11-30  132.981583\n",
      "2022-12-31  124.560142\n",
      "2023-01-31  122.877812\n"
     ]
    }
   ],
   "source": [
    "monthly_data = stock_data['Low'].resample('ME').min()\n",
    "print(monthly_data)"
   ]
  },
  {
   "cell_type": "code",
   "execution_count": 9,
   "id": "116eaa40-1a27-4b3d-9763-5749bea88ff0",
   "metadata": {},
   "outputs": [
    {
     "name": "stdout",
     "output_type": "stream",
     "text": [
      "Ticker            AAPL\n",
      "Date                  \n",
      "2021-01-10  129.205945\n",
      "2021-01-17  127.615947\n",
      "2021-01-24  132.186432\n",
      "2021-01-31  139.328701\n",
      "2021-02-07  133.474346\n",
      "...                ...\n",
      "2023-01-08  128.058340\n",
      "2023-01-15  132.083016\n",
      "2023-01-22  136.111164\n",
      "2023-01-29  142.578656\n",
      "2023-02-05  144.035338\n",
      "\n",
      "[109 rows x 1 columns]\n"
     ]
    }
   ],
   "source": [
    "weekly_data = stock_data['High'].resample('W').mean()\n",
    "print(weekly_data)"
   ]
  },
  {
   "cell_type": "code",
   "execution_count": null,
   "id": "f51bd606-caee-4010-898e-6c79e9fa9a9e",
   "metadata": {},
   "outputs": [],
   "source": []
  },
  {
   "cell_type": "code",
   "execution_count": null,
   "id": "b62db899-fe1f-4259-abc2-cd50f809ae6e",
   "metadata": {},
   "outputs": [],
   "source": []
  }
 ],
 "metadata": {
  "kernelspec": {
   "display_name": "Python 3 (ipykernel)",
   "language": "python",
   "name": "python3"
  },
  "language_info": {
   "codemirror_mode": {
    "name": "ipython",
    "version": 3
   },
   "file_extension": ".py",
   "mimetype": "text/x-python",
   "name": "python",
   "nbconvert_exporter": "python",
   "pygments_lexer": "ipython3",
   "version": "3.12.1"
  }
 },
 "nbformat": 4,
 "nbformat_minor": 5
}
