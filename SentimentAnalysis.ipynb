{
 "cells": [
  {
   "cell_type": "code",
   "execution_count": 1,
   "id": "a0a80943-be5a-4848-9626-30869b81f7a2",
   "metadata": {},
   "outputs": [
    {
     "data": {
      "text/plain": [
       "['The product is fantastic and worth the price.',\n",
       " 'Okay product, but could be better.',\n",
       " 'Terrible product, not recommended.']"
      ]
     },
     "execution_count": 1,
     "metadata": {},
     "output_type": "execute_result"
    }
   ],
   "source": [
    "# imagine a customer reviews i want to do sentiment analysis on it. \n",
    "# first we have to import TextBlob(it is NLP(Natuarl language Processing) Library which will simplify text processig for you.)\n",
    "reviews = [\n",
    "    \"The product is fantastic and worth the price.\",\n",
    "    \"Okay product, but could be better.\",\n",
    "    \"Terrible product, not recommended.\"\n",
    "]\n",
    "reviews"
   ]
  },
  {
   "cell_type": "code",
   "execution_count": null,
   "id": "1e589182-7e88-43c4-ba3f-5d2312b235d8",
   "metadata": {},
   "outputs": [],
   "source": [
    "# sentiment is the emotion of human.\n",
    "# we have to iterate the review of particuar customer and calculate sentiment of review using TextBlob\n",
    "# TextBlob is use to calaculate polarity or sentiment polarity in which o/p comes to b/w range of values(-1,1)\n",
    "# if o/p comes near to -1 then it means that it is negative sentiment. 0 or near to it refer to neutral similarly for 1 or near to it refer positive sentiment."
   ]
  },
  {
   "cell_type": "code",
   "execution_count": 3,
   "id": "fae5a1de-7845-4ba0-8fec-4b423a4186ea",
   "metadata": {},
   "outputs": [
    {
     "data": {
      "text/plain": [
       "[0.35, 0.5, -1.0]"
      ]
     },
     "execution_count": 3,
     "metadata": {},
     "output_type": "execute_result"
    }
   ],
   "source": [
    "from textblob import TextBlob\n",
    "sentiments = [TextBlob(review).sentiment.polarity for review in reviews]\n",
    "sentiments"
   ]
  },
  {
   "cell_type": "code",
   "execution_count": null,
   "id": "8636d44a-5a53-469c-ae5a-75f6f0870174",
   "metadata": {},
   "outputs": [],
   "source": []
  }
 ],
 "metadata": {
  "kernelspec": {
   "display_name": "Python 3 (ipykernel)",
   "language": "python",
   "name": "python3"
  },
  "language_info": {
   "codemirror_mode": {
    "name": "ipython",
    "version": 3
   },
   "file_extension": ".py",
   "mimetype": "text/x-python",
   "name": "python",
   "nbconvert_exporter": "python",
   "pygments_lexer": "ipython3",
   "version": "3.12.1"
  }
 },
 "nbformat": 4,
 "nbformat_minor": 5
}
