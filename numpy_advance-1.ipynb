{
 "cells": [
  {
   "cell_type": "code",
   "execution_count": 3,
   "id": "133802ae-d588-4d44-b09a-ce91a8fa18a9",
   "metadata": {},
   "outputs": [
    {
     "data": {
      "text/plain": [
       "array([0., 0., 0., 0., 0.])"
      ]
     },
     "execution_count": 3,
     "metadata": {},
     "output_type": "execute_result"
    }
   ],
   "source": [
    "import numpy as np\n",
    "np.zeros(5)  # return a new array of given shape and type, filled with zeroes."
   ]
  },
  {
   "cell_type": "code",
   "execution_count": 5,
   "id": "076d9afd-b10b-4f1c-99f8-9a1a53a3fdcf",
   "metadata": {},
   "outputs": [
    {
     "data": {
      "text/plain": [
       "array([0., 0., 0., 0., 0., 0.])"
      ]
     },
     "execution_count": 5,
     "metadata": {},
     "output_type": "execute_result"
    }
   ],
   "source": [
    "b=np.zeros(6)\n",
    "b"
   ]
  },
  {
   "cell_type": "code",
   "execution_count": 7,
   "id": "6900ffb6-924f-49a6-b8bc-e3c438d07338",
   "metadata": {},
   "outputs": [
    {
     "data": {
      "text/plain": [
       "1"
      ]
     },
     "execution_count": 7,
     "metadata": {},
     "output_type": "execute_result"
    }
   ],
   "source": [
    "b.ndim"
   ]
  },
  {
   "cell_type": "code",
   "execution_count": 11,
   "id": "62087091-c3d2-4a86-8020-50776ea82b8a",
   "metadata": {},
   "outputs": [
    {
     "data": {
      "text/plain": [
       "array([[[0., 0., 0., 0., 0.],\n",
       "        [0., 0., 0., 0., 0.],\n",
       "        [0., 0., 0., 0., 0.],\n",
       "        [0., 0., 0., 0., 0.]],\n",
       "\n",
       "       [[0., 0., 0., 0., 0.],\n",
       "        [0., 0., 0., 0., 0.],\n",
       "        [0., 0., 0., 0., 0.],\n",
       "        [0., 0., 0., 0., 0.]],\n",
       "\n",
       "       [[0., 0., 0., 0., 0.],\n",
       "        [0., 0., 0., 0., 0.],\n",
       "        [0., 0., 0., 0., 0.],\n",
       "        [0., 0., 0., 0., 0.]]])"
      ]
     },
     "execution_count": 11,
     "metadata": {},
     "output_type": "execute_result"
    }
   ],
   "source": [
    "b = np.zeros((3,4,5))\n",
    "b"
   ]
  },
  {
   "cell_type": "code",
   "execution_count": 12,
   "id": "ebccbe0b-f3d2-4e3f-aeff-ac5e3f97b45d",
   "metadata": {},
   "outputs": [
    {
     "data": {
      "text/plain": [
       "3"
      ]
     },
     "execution_count": 12,
     "metadata": {},
     "output_type": "execute_result"
    }
   ],
   "source": [
    "b.ndim"
   ]
  },
  {
   "cell_type": "code",
   "execution_count": 14,
   "id": "b5907a03-8a52-4511-b8ab-59f182fee974",
   "metadata": {},
   "outputs": [
    {
     "data": {
      "text/plain": [
       "array([[1., 1., 1., 1.],\n",
       "       [1., 1., 1., 1.],\n",
       "       [1., 1., 1., 1.]])"
      ]
     },
     "execution_count": 14,
     "metadata": {},
     "output_type": "execute_result"
    }
   ],
   "source": [
    "np.ones((3,4))   # return the array filled with ones."
   ]
  },
  {
   "cell_type": "code",
   "execution_count": 18,
   "id": "6a768c0c-cc3f-4216-85fd-49b3dfde5891",
   "metadata": {},
   "outputs": [
    {
     "data": {
      "text/plain": [
       "array([[[[0., 0., 0., 0.],\n",
       "         [0., 0., 0., 0.],\n",
       "         [0., 0., 0., 0.]],\n",
       "\n",
       "        [[0., 0., 0., 0.],\n",
       "         [0., 0., 0., 0.],\n",
       "         [0., 0., 0., 0.]]]])"
      ]
     },
     "execution_count": 18,
     "metadata": {},
     "output_type": "execute_result"
    }
   ],
   "source": [
    "arr  = np.zeros((1,2,3,4))\n",
    "arr"
   ]
  },
  {
   "cell_type": "code",
   "execution_count": 20,
   "id": "50038a9a-40c7-4081-b53e-a0f114b67cea",
   "metadata": {},
   "outputs": [
    {
     "data": {
      "text/plain": [
       "4"
      ]
     },
     "execution_count": 20,
     "metadata": {},
     "output_type": "execute_result"
    }
   ],
   "source": [
    "arr.ndim"
   ]
  },
  {
   "cell_type": "code",
   "execution_count": 22,
   "id": "1d0f519d-1878-45d6-82b3-2ed2e1b8e009",
   "metadata": {},
   "outputs": [
    {
     "data": {
      "text/plain": [
       "array([[1., 1., 1.],\n",
       "       [1., 1., 1.],\n",
       "       [1., 1., 1.]])"
      ]
     },
     "execution_count": 22,
     "metadata": {},
     "output_type": "execute_result"
    }
   ],
   "source": [
    "arr1 = np.ones((3,3))\n",
    "arr1"
   ]
  },
  {
   "cell_type": "code",
   "execution_count": 24,
   "id": "7f98892c-7bdc-46b0-afb7-303b1a786678",
   "metadata": {},
   "outputs": [
    {
     "data": {
      "text/plain": [
       "(3, 3)"
      ]
     },
     "execution_count": 24,
     "metadata": {},
     "output_type": "execute_result"
    }
   ],
   "source": [
    "arr1.shape"
   ]
  },
  {
   "cell_type": "code",
   "execution_count": 28,
   "id": "9f84aa99-90d3-400b-a8c2-8183f9117947",
   "metadata": {},
   "outputs": [],
   "source": [
    "# if i want to add 5 to every ele present in array.\n",
    "add = arr1+5"
   ]
  },
  {
   "cell_type": "code",
   "execution_count": 30,
   "id": "7c8606fd-c73d-42ec-b937-e25d6bd5f505",
   "metadata": {},
   "outputs": [
    {
     "data": {
      "text/plain": [
       "array([[3., 3., 3.],\n",
       "       [3., 3., 3.],\n",
       "       [3., 3., 3.]])"
      ]
     },
     "execution_count": 30,
     "metadata": {},
     "output_type": "execute_result"
    }
   ],
   "source": [
    "# similarly we  can do sub,  multi, div in array.\n",
    "add/2"
   ]
  },
  {
   "cell_type": "code",
   "execution_count": 34,
   "id": "55a32cd7-f1a7-4b74-92ff-a0401db6bb31",
   "metadata": {},
   "outputs": [
    {
     "data": {
      "text/plain": [
       "array([[1., 0., 0., 0.],\n",
       "       [0., 1., 0., 0.],\n",
       "       [0., 0., 1., 0.],\n",
       "       [0., 0., 0., 1.]])"
      ]
     },
     "execution_count": 34,
     "metadata": {},
     "output_type": "execute_result"
    }
   ],
   "source": [
    "# if you want to have some specific type of array\n",
    "np.eye(4)  # return a 2-d array with ones on diagonal and zeros elsewhere.\n"
   ]
  },
  {
   "cell_type": "code",
   "execution_count": 40,
   "id": "27c0c5a9-ddc9-4268-bc2a-0a1e18dbfe40",
   "metadata": {},
   "outputs": [
    {
     "data": {
      "text/plain": [
       "array([[1, 0, 0],\n",
       "       [0, 1, 0],\n",
       "       [0, 0, 1],\n",
       "       [0, 0, 0]])"
      ]
     },
     "execution_count": 40,
     "metadata": {},
     "output_type": "execute_result"
    }
   ],
   "source": [
    "np.eye(4,3).astype(int)  #  if you want in integer value."
   ]
  },
  {
   "cell_type": "code",
   "execution_count": 42,
   "id": "f5303846-1b0d-411a-95aa-d44bd029cc1e",
   "metadata": {},
   "outputs": [
    {
     "data": {
      "text/plain": [
       "array([[1, 0, 0],\n",
       "       [0, 1, 0],\n",
       "       [0, 0, 1],\n",
       "       [0, 0, 0]])"
      ]
     },
     "execution_count": 42,
     "metadata": {},
     "output_type": "execute_result"
    }
   ],
   "source": [
    "np.eye(4,3, dtype= int)  #  if you want in integer value."
   ]
  },
  {
   "cell_type": "code",
   "execution_count": 47,
   "id": "787d4ac2-5d6e-4bdd-98bb-298d21d9965b",
   "metadata": {},
   "outputs": [
    {
     "data": {
      "text/plain": [
       "array([[1.10648309e-311, 2.86558075e-322, 0.00000000e+000,\n",
       "        0.00000000e+000],\n",
       "       [1.78022341e-306, 3.69776220e-062, 4.75779062e-090,\n",
       "        8.84698317e+165],\n",
       "       [1.28275274e+160, 6.12267009e+169, 6.48224659e+170,\n",
       "        5.82471487e+257]])"
      ]
     },
     "execution_count": 47,
     "metadata": {},
     "output_type": "execute_result"
    }
   ],
   "source": [
    "np.empty((3,4))  #return a new array of given shape and type, without intializing entries. it give random value in matrix."
   ]
  },
  {
   "cell_type": "code",
   "execution_count": 55,
   "id": "8d4ecd80-dd11-4ed0-8a80-ca7c44327b55",
   "metadata": {},
   "outputs": [
    {
     "data": {
      "text/plain": [
       "4"
      ]
     },
     "execution_count": 55,
     "metadata": {},
     "output_type": "execute_result"
    }
   ],
   "source": [
    "# optional\n",
    "# if you want to make operation with  random number then we have libraary called random\n",
    "import random\n",
    "random.choice((1,2,3,4,5))"
   ]
  },
  {
   "cell_type": "code",
   "execution_count": 57,
   "id": "aa32c5eb-bae7-4ca1-97cc-34dc8bbdba95",
   "metadata": {},
   "outputs": [
    {
     "data": {
      "text/plain": [
       "'R'"
      ]
     },
     "execution_count": 57,
     "metadata": {},
     "output_type": "execute_result"
    }
   ],
   "source": [
    "#if you want to select random characetr from string.\n",
    "random.choice('Rishi')"
   ]
  },
  {
   "cell_type": "code",
   "execution_count": 62,
   "id": "86a3a630-2aa3-4900-b4ac-aa05f68a75d4",
   "metadata": {},
   "outputs": [
    {
     "data": {
      "text/plain": [
       "44"
      ]
     },
     "execution_count": 62,
     "metadata": {},
     "output_type": "execute_result"
    }
   ],
   "source": [
    "random.randrange(1,100) # choose random number b/w limits"
   ]
  },
  {
   "cell_type": "code",
   "execution_count": 64,
   "id": "05c9af09-c173-469f-8bb7-7ffd656bc80c",
   "metadata": {},
   "outputs": [
    {
     "data": {
      "text/plain": [
       "0.3032733849091729"
      ]
     },
     "execution_count": 64,
     "metadata": {},
     "output_type": "execute_result"
    }
   ],
   "source": [
    "# if you simply want to create random number then random\n",
    "random.random()"
   ]
  },
  {
   "cell_type": "code",
   "execution_count": 68,
   "id": "c474998c-6663-4b30-9551-0dad0bfdb7fc",
   "metadata": {},
   "outputs": [
    {
     "name": "stdout",
     "output_type": "stream",
     "text": [
      "[9, 8, 20, 7, 5, 6]\n"
     ]
    }
   ],
   "source": [
    "# if you want to simply suffle the number\n",
    "lis = [5,6,7,8,9,20]\n",
    "random.shuffle(lis)\n",
    "print(lis)"
   ]
  },
  {
   "cell_type": "code",
   "execution_count": 70,
   "id": "94bdc820-c1b8-4cab-864d-72acbb5bf230",
   "metadata": {},
   "outputs": [
    {
     "ename": "TypeError",
     "evalue": "'tuple' object does not support item assignment",
     "output_type": "error",
     "traceback": [
      "\u001b[1;31m---------------------------------------------------------------------------\u001b[0m",
      "\u001b[1;31mTypeError\u001b[0m                                 Traceback (most recent call last)",
      "Cell \u001b[1;32mIn[70], line 2\u001b[0m\n\u001b[0;32m      1\u001b[0m tup \u001b[38;5;241m=\u001b[39m (\u001b[38;5;241m1\u001b[39m,\u001b[38;5;241m2\u001b[39m,\u001b[38;5;241m3\u001b[39m,\u001b[38;5;241m4\u001b[39m,\u001b[38;5;241m5\u001b[39m)\n\u001b[1;32m----> 2\u001b[0m \u001b[43mrandom\u001b[49m\u001b[38;5;241;43m.\u001b[39;49m\u001b[43mshuffle\u001b[49m\u001b[43m(\u001b[49m\u001b[43mtup\u001b[49m\u001b[43m)\u001b[49m\n\u001b[0;32m      3\u001b[0m \u001b[38;5;28mprint\u001b[39m(tup)\n",
      "File \u001b[1;32mC:\\Program Files\\Python312\\Lib\\random.py:357\u001b[0m, in \u001b[0;36mRandom.shuffle\u001b[1;34m(self, x)\u001b[0m\n\u001b[0;32m    354\u001b[0m \u001b[38;5;28;01mfor\u001b[39;00m i \u001b[38;5;129;01min\u001b[39;00m \u001b[38;5;28mreversed\u001b[39m(\u001b[38;5;28mrange\u001b[39m(\u001b[38;5;241m1\u001b[39m, \u001b[38;5;28mlen\u001b[39m(x))):\n\u001b[0;32m    355\u001b[0m     \u001b[38;5;66;03m# pick an element in x[:i+1] with which to exchange x[i]\u001b[39;00m\n\u001b[0;32m    356\u001b[0m     j \u001b[38;5;241m=\u001b[39m randbelow(i \u001b[38;5;241m+\u001b[39m \u001b[38;5;241m1\u001b[39m)\n\u001b[1;32m--> 357\u001b[0m     \u001b[43mx\u001b[49m\u001b[43m[\u001b[49m\u001b[43mi\u001b[49m\u001b[43m]\u001b[49m, x[j] \u001b[38;5;241m=\u001b[39m x[j], x[i]\n",
      "\u001b[1;31mTypeError\u001b[0m: 'tuple' object does not support item assignment"
     ]
    }
   ],
   "source": [
    "tup = (1,2,3,4,5)\n",
    "random.shuffle(tup)\n",
    "print(tup)"
   ]
  },
  {
   "cell_type": "code",
   "execution_count": 3,
   "id": "495612dc-ddf3-43f1-97f8-fc26a9360efd",
   "metadata": {},
   "outputs": [
    {
     "data": {
      "text/plain": [
       "10.358386767688973"
      ]
     },
     "execution_count": 3,
     "metadata": {},
     "output_type": "execute_result"
    }
   ],
   "source": [
    "import numpy as np\n",
    "import random \n",
    "# if you want to generate uniform value using random . The uniform() method returns a random floating number between the two specified numbers (both included).\n",
    "random.uniform(10,20)"
   ]
  },
  {
   "cell_type": "code",
   "execution_count": 5,
   "id": "e2ac5239-c757-4727-ad41-17b1c700ad1c",
   "metadata": {},
   "outputs": [
    {
     "data": {
      "text/plain": [
       "array([], dtype=float64)"
      ]
     },
     "execution_count": 5,
     "metadata": {},
     "output_type": "execute_result"
    }
   ],
   "source": [
    "np.array([])"
   ]
  },
  {
   "cell_type": "code",
   "execution_count": 7,
   "id": "6ba5f4ea-1417-49d0-8bdd-fb9929fc67aa",
   "metadata": {},
   "outputs": [
    {
     "data": {
      "text/plain": [
       "0.8098508183703563"
      ]
     },
     "execution_count": 7,
     "metadata": {},
     "output_type": "execute_result"
    }
   ],
   "source": [
    "#np.random is a module that can be use in place of import random\n",
    "np.random.random_sample()"
   ]
  },
  {
   "cell_type": "code",
   "execution_count": 10,
   "id": "6b1bf22e-48d5-466c-843c-d403e3c2cf97",
   "metadata": {},
   "outputs": [
    {
     "data": {
      "text/plain": [
       "array([0.26743793, 0.2764545 , 0.44621102, 0.78546172, 0.69184043,\n",
       "       0.42333046, 0.56857373])"
      ]
     },
     "execution_count": 10,
     "metadata": {},
     "output_type": "execute_result"
    }
   ],
   "source": [
    "# idf you want to generate random number array.\n",
    "np.random.random_sample((7,))"
   ]
  },
  {
   "cell_type": "code",
   "execution_count": 12,
   "id": "8006534f-c691-4465-b2a3-cb8b6e99ed95",
   "metadata": {},
   "outputs": [
    {
     "data": {
      "text/plain": [
       "array([0.43356986])"
      ]
     },
     "execution_count": 12,
     "metadata": {},
     "output_type": "execute_result"
    }
   ],
   "source": [
    "# if you want to generate only one element in array then\n",
    "np.random.rand(1)"
   ]
  },
  {
   "cell_type": "code",
   "execution_count": 14,
   "id": "21f44a14-7764-4992-b681-219876cc219d",
   "metadata": {},
   "outputs": [
    {
     "data": {
      "text/plain": [
       "array([[0.28176861, 0.50420119],\n",
       "       [0.86167438, 0.95539808],\n",
       "       [0.77639983, 0.9141725 ]])"
      ]
     },
     "execution_count": 14,
     "metadata": {},
     "output_type": "execute_result"
    }
   ],
   "source": [
    "np.random.rand(3,2)"
   ]
  },
  {
   "cell_type": "code",
   "execution_count": 20,
   "id": "d0869644-81c0-4bce-b543-5adf56902824",
   "metadata": {},
   "outputs": [],
   "source": [
    "# if you want to genrate in integer value.\n",
    "arr = np.random.randint(1,5, size=(2,3)) # it gen integer value b/w 1 to 5 b/w 2 rows and 3 coloumn ."
   ]
  },
  {
   "cell_type": "code",
   "execution_count": 22,
   "id": "85cd8750-0f56-4e7c-a92c-484838691b5e",
   "metadata": {},
   "outputs": [
    {
     "data": {
      "text/plain": [
       "2"
      ]
     },
     "execution_count": 22,
     "metadata": {},
     "output_type": "execute_result"
    }
   ],
   "source": [
    "arr.ndim"
   ]
  },
  {
   "cell_type": "code",
   "execution_count": 24,
   "id": "528b7c70-f924-4640-a2b3-9b92e06a0cc3",
   "metadata": {},
   "outputs": [
    {
     "data": {
      "text/plain": [
       "(2, 3)"
      ]
     },
     "execution_count": 24,
     "metadata": {},
     "output_type": "execute_result"
    }
   ],
   "source": [
    "arr.shape"
   ]
  },
  {
   "cell_type": "code",
   "execution_count": 26,
   "id": "a6f4ade9-1664-4e0e-8d02-59d88cff7167",
   "metadata": {},
   "outputs": [
    {
     "data": {
      "text/plain": [
       "6"
      ]
     },
     "execution_count": 26,
     "metadata": {},
     "output_type": "execute_result"
    }
   ],
   "source": [
    "arr.size"
   ]
  },
  {
   "cell_type": "code",
   "execution_count": 28,
   "id": "521ee9f7-d135-42b3-addf-25ef5e50f118",
   "metadata": {},
   "outputs": [
    {
     "data": {
      "text/plain": [
       "array([[1, 1],\n",
       "       [4, 4],\n",
       "       [1, 4]], dtype=int32)"
      ]
     },
     "execution_count": 28,
     "metadata": {},
     "output_type": "execute_result"
    }
   ],
   "source": [
    "# if we want to change the shape of array.\n",
    "arr.reshape(3,2)"
   ]
  },
  {
   "cell_type": "code",
   "execution_count": 31,
   "id": "b19cf679-1fc5-4117-b3c7-f4ddb47a91d8",
   "metadata": {},
   "outputs": [
    {
     "data": {
      "text/plain": [
       "6"
      ]
     },
     "execution_count": 31,
     "metadata": {},
     "output_type": "execute_result"
    }
   ],
   "source": [
    "arr1 = arr  # if we change the shape then size will noy change.\n",
    "arr1.size"
   ]
  },
  {
   "cell_type": "code",
   "execution_count": 33,
   "id": "7ef9d947-9fa4-4365-ba7f-b02677118427",
   "metadata": {},
   "outputs": [
    {
     "data": {
      "text/plain": [
       "(2, 3)"
      ]
     },
     "execution_count": 33,
     "metadata": {},
     "output_type": "execute_result"
    }
   ],
   "source": [
    "#array size will noy change, always reshape parameter should be multiplication of original array\n",
    "arr.shape"
   ]
  },
  {
   "cell_type": "code",
   "execution_count": 35,
   "id": "c236cbc7-cbad-4b95-9078-22ac8778007f",
   "metadata": {},
   "outputs": [
    {
     "data": {
      "text/plain": [
       "6"
      ]
     },
     "execution_count": 35,
     "metadata": {},
     "output_type": "execute_result"
    }
   ],
   "source": [
    "arr.size"
   ]
  },
  {
   "cell_type": "code",
   "execution_count": 37,
   "id": "2b6125d4-a208-4326-9244-a8bcf7dd6307",
   "metadata": {},
   "outputs": [
    {
     "ename": "ValueError",
     "evalue": "cannot reshape array of size 6 into shape (1,5)",
     "output_type": "error",
     "traceback": [
      "\u001b[1;31m---------------------------------------------------------------------------\u001b[0m",
      "\u001b[1;31mValueError\u001b[0m                                Traceback (most recent call last)",
      "Cell \u001b[1;32mIn[37], line 1\u001b[0m\n\u001b[1;32m----> 1\u001b[0m \u001b[43marr\u001b[49m\u001b[38;5;241;43m.\u001b[39;49m\u001b[43mreshape\u001b[49m\u001b[43m(\u001b[49m\u001b[38;5;241;43m1\u001b[39;49m\u001b[43m,\u001b[49m\u001b[38;5;241;43m5\u001b[39;49m\u001b[43m)\u001b[49m \n",
      "\u001b[1;31mValueError\u001b[0m: cannot reshape array of size 6 into shape (1,5)"
     ]
    }
   ],
   "source": [
    "arr.reshape(1,5) "
   ]
  },
  {
   "cell_type": "code",
   "execution_count": 39,
   "id": "382bb8b6-5b2e-4912-9e64-0033bf75d2a0",
   "metadata": {},
   "outputs": [
    {
     "data": {
      "text/plain": [
       "array([[1, 1, 4, 4, 1, 4]], dtype=int32)"
      ]
     },
     "execution_count": 39,
     "metadata": {},
     "output_type": "execute_result"
    }
   ],
   "source": [
    "arr.reshape(1,6)"
   ]
  },
  {
   "cell_type": "code",
   "execution_count": 44,
   "id": "7470f3bf-9ae9-41d6-bc9e-de9a5f785975",
   "metadata": {},
   "outputs": [
    {
     "data": {
      "text/plain": [
       "array([[1, 1, 4, 4, 1, 4]], dtype=int32)"
      ]
     },
     "execution_count": 44,
     "metadata": {},
     "output_type": "execute_result"
    }
   ],
   "source": [
    "#case when you don't know in reshape what should be the column count or row count we can insert any negative number.\n",
    "arr.reshape(1,-1)"
   ]
  },
  {
   "cell_type": "code",
   "execution_count": 46,
   "id": "4d2afcd1-988c-4479-aeec-b19ffac9f662",
   "metadata": {},
   "outputs": [
    {
     "data": {
      "text/plain": [
       "array([[1, 1, 4],\n",
       "       [4, 1, 4]], dtype=int32)"
      ]
     },
     "execution_count": 46,
     "metadata": {},
     "output_type": "execute_result"
    }
   ],
   "source": [
    "arr.reshape(2,-1)"
   ]
  },
  {
   "cell_type": "code",
   "execution_count": 48,
   "id": "ecbdf59a-73fd-4d9a-8d1f-d7bec88a14ff",
   "metadata": {},
   "outputs": [
    {
     "data": {
      "text/plain": [
       "array([[1, 1],\n",
       "       [4, 4],\n",
       "       [1, 4]], dtype=int32)"
      ]
     },
     "execution_count": 48,
     "metadata": {},
     "output_type": "execute_result"
    }
   ],
   "source": [
    "arr.reshape(-1,2)"
   ]
  },
  {
   "cell_type": "code",
   "execution_count": 51,
   "id": "3e5e74f6-5cd2-4324-99a0-844e080d75b0",
   "metadata": {},
   "outputs": [
    {
     "data": {
      "text/plain": [
       "array([[1, 1, 4],\n",
       "       [4, 1, 4]], dtype=int32)"
      ]
     },
     "execution_count": 51,
     "metadata": {},
     "output_type": "execute_result"
    }
   ],
   "source": [
    "arr.reshape(-10,3)"
   ]
  },
  {
   "cell_type": "code",
   "execution_count": 53,
   "id": "95aef8a8-37fc-4d6c-8688-eb257288785f",
   "metadata": {},
   "outputs": [
    {
     "data": {
      "text/plain": [
       "array([[1, 1, 4],\n",
       "       [4, 1, 4]], dtype=int32)"
      ]
     },
     "execution_count": 53,
     "metadata": {},
     "output_type": "execute_result"
    }
   ],
   "source": [
    "arr.reshape(-10,3).base # to see the orginal array."
   ]
  },
  {
   "cell_type": "code",
   "execution_count": 55,
   "id": "713dc3d2-b4dd-4eae-878f-c838d98b303f",
   "metadata": {},
   "outputs": [
    {
     "name": "stdout",
     "output_type": "stream",
     "text": [
      "[1 2 3 4]\n"
     ]
    }
   ],
   "source": [
    "arr8 = np.array([1,2,3,4])\n",
    "c_arr8 = arr8.reshape(2,2)  # Reshape into (2,2) without copying\n",
    "print(c_arr8.base)    # Should return the original array"
   ]
  },
  {
   "cell_type": "code",
   "execution_count": 63,
   "id": "3b472bff-8a7f-4dc5-a97b-0a0fa00d0888",
   "metadata": {},
   "outputs": [
    {
     "name": "stdout",
     "output_type": "stream",
     "text": [
      "None\n"
     ]
    }
   ],
   "source": [
    "arr = np.arange(6).reshape(2, 3)\n",
    "copied_arr = arr.copy().reshape(3, 2).copy()  # Copy first, then reshape\n",
    "print(copied_arr.base)  # Should return None\n"
   ]
  },
  {
   "cell_type": "code",
   "execution_count": 5,
   "id": "7b96dfda-3e74-43a9-9b95-61fb6ab6b547",
   "metadata": {},
   "outputs": [
    {
     "data": {
      "text/plain": [
       "array([[10, 10,  8,  7],\n",
       "       [ 9, 10,  9,  6],\n",
       "       [10, 13,  7, 12]], dtype=int32)"
      ]
     },
     "execution_count": 5,
     "metadata": {},
     "output_type": "execute_result"
    }
   ],
   "source": [
    "#condition on array\n",
    "import numpy as np\n",
    "import random\n",
    "arr1 = np.random.randint(5,15,(3,4))\n",
    "arr1"
   ]
  },
  {
   "cell_type": "code",
   "execution_count": 7,
   "id": "ea99d2e0-db07-4785-8c1d-1b1d98b07d3d",
   "metadata": {},
   "outputs": [
    {
     "data": {
      "text/plain": [
       "array([[False, False, False, False],\n",
       "       [False, False, False, False],\n",
       "       [False,  True, False,  True]])"
      ]
     },
     "execution_count": 7,
     "metadata": {},
     "output_type": "execute_result"
    }
   ],
   "source": [
    "arr1 > 10"
   ]
  },
  {
   "cell_type": "code",
   "execution_count": 9,
   "id": "2b0bf816-3ed2-4c04-bdf1-76b15f79590f",
   "metadata": {},
   "outputs": [
    {
     "data": {
      "text/plain": [
       "array([13, 12], dtype=int32)"
      ]
     },
     "execution_count": 9,
     "metadata": {},
     "output_type": "execute_result"
    }
   ],
   "source": [
    "# if we want to see value in array ele not in boolean\n",
    "arr1[arr1 > 10]"
   ]
  },
  {
   "cell_type": "code",
   "execution_count": 11,
   "id": "e50c4417-12cf-4d99-8957-c826ee435d94",
   "metadata": {},
   "outputs": [
    {
     "data": {
      "text/plain": [
       "array([10, 13,  7, 12], dtype=int32)"
      ]
     },
     "execution_count": 11,
     "metadata": {},
     "output_type": "execute_result"
    }
   ],
   "source": [
    "arr1[2]"
   ]
  },
  {
   "cell_type": "code",
   "execution_count": 13,
   "id": "1733e264-e3d8-4b1e-a337-6e3470e7df3d",
   "metadata": {},
   "outputs": [
    {
     "data": {
      "text/plain": [
       "np.int32(6)"
      ]
     },
     "execution_count": 13,
     "metadata": {},
     "output_type": "execute_result"
    }
   ],
   "source": [
    "arr1[1][3]"
   ]
  },
  {
   "cell_type": "code",
   "execution_count": 16,
   "id": "63b940bb-5251-44d2-a12b-bf9cf542a8d9",
   "metadata": {},
   "outputs": [
    {
     "data": {
      "text/plain": [
       "array([[ 9, 10,  9,  6],\n",
       "       [10, 13,  7, 12]], dtype=int32)"
      ]
     },
     "execution_count": 16,
     "metadata": {},
     "output_type": "execute_result"
    }
   ],
   "source": [
    "#if you want to show continuation of row then you can use string slicing\n",
    "arr1[1:3]"
   ]
  },
  {
   "cell_type": "code",
   "execution_count": 18,
   "id": "27e83031-8683-4f56-bc67-e7951169343c",
   "metadata": {},
   "outputs": [
    {
     "data": {
      "text/plain": [
       "array([[10, 10,  8,  7],\n",
       "       [ 9, 10,  9,  6],\n",
       "       [10, 13,  7, 12]], dtype=int32)"
      ]
     },
     "execution_count": 18,
     "metadata": {},
     "output_type": "execute_result"
    }
   ],
   "source": [
    "arr1"
   ]
  },
  {
   "cell_type": "code",
   "execution_count": 23,
   "id": "45bcea85-a2e3-4219-a738-3508a49cd270",
   "metadata": {},
   "outputs": [
    {
     "data": {
      "text/plain": [
       "array([[10,  6],\n",
       "       [13, 12]], dtype=int32)"
      ]
     },
     "execution_count": 23,
     "metadata": {},
     "output_type": "execute_result"
    }
   ],
   "source": [
    "arr1[1:3,[1,3]]  # 1th row and 2nd row , 1 col and 3 col"
   ]
  },
  {
   "cell_type": "code",
   "execution_count": 26,
   "id": "19b804c4-fc1f-4852-a9ba-53a5d9d91cef",
   "metadata": {},
   "outputs": [
    {
     "data": {
      "text/plain": [
       "array([[10,  7],\n",
       "       [ 9,  6],\n",
       "       [10, 12]], dtype=int32)"
      ]
     },
     "execution_count": 26,
     "metadata": {},
     "output_type": "execute_result"
    }
   ],
   "source": [
    "arr1[0:3,[0,3]]"
   ]
  },
  {
   "cell_type": "code",
   "execution_count": 27,
   "id": "1110bb99-402d-441d-b8fd-d7e9a0f25c2a",
   "metadata": {},
   "outputs": [],
   "source": [
    "# slicing on both rows and column"
   ]
  },
  {
   "cell_type": "code",
   "execution_count": 29,
   "id": "686c5683-8738-4b22-8122-c6453a453af8",
   "metadata": {},
   "outputs": [
    {
     "data": {
      "text/plain": [
       "array([[10,  8],\n",
       "       [10,  9]], dtype=int32)"
      ]
     },
     "execution_count": 29,
     "metadata": {},
     "output_type": "execute_result"
    }
   ],
   "source": [
    "arr1[0:2, 1:3]"
   ]
  },
  {
   "cell_type": "code",
   "execution_count": 31,
   "id": "01acd62f-cdf7-4515-b9bc-fdae1abfb68b",
   "metadata": {},
   "outputs": [
    {
     "data": {
      "text/plain": [
       "array([[10,  7],\n",
       "       [10,  6]], dtype=int32)"
      ]
     },
     "execution_count": 31,
     "metadata": {},
     "output_type": "execute_result"
    }
   ],
   "source": [
    "arr1[0:2, [1,3]]"
   ]
  },
  {
   "cell_type": "code",
   "execution_count": 33,
   "id": "db3cc3c8-832d-41de-8f61-8149c72dd08a",
   "metadata": {},
   "outputs": [
    {
     "data": {
      "text/plain": [
       "array([[10, 10,  8,  7],\n",
       "       [ 9, 10,  9,  6],\n",
       "       [10, 13,  7, 12]], dtype=int32)"
      ]
     },
     "execution_count": 33,
     "metadata": {},
     "output_type": "execute_result"
    }
   ],
   "source": [
    "arr1"
   ]
  },
  {
   "cell_type": "code",
   "execution_count": 35,
   "id": "88e08ec7-63b1-4f6f-bd7f-c4c735c703c8",
   "metadata": {},
   "outputs": [
    {
     "data": {
      "text/plain": [
       "np.int32(10)"
      ]
     },
     "execution_count": 35,
     "metadata": {},
     "output_type": "execute_result"
    }
   ],
   "source": [
    "arr1[0][0]"
   ]
  },
  {
   "cell_type": "code",
   "execution_count": 43,
   "id": "d0242cb3-176b-4575-ad42-6f0259fcdbe8",
   "metadata": {},
   "outputs": [
    {
     "data": {
      "text/plain": [
       "array([10, 12], dtype=int32)"
      ]
     },
     "execution_count": 43,
     "metadata": {},
     "output_type": "execute_result"
    }
   ],
   "source": [
    "arr1[[0,2],[0,3]]"
   ]
  },
  {
   "cell_type": "code",
   "execution_count": 50,
   "id": "015733d9-b56d-4372-8668-6af5e3e9300f",
   "metadata": {},
   "outputs": [],
   "source": [
    "# mathematical operation between two arrays.\n",
    "arr1 = np.random.randint(5,15,(3,3))\n",
    "arr2 = np.random.randint(15,25,(3,3))"
   ]
  },
  {
   "cell_type": "code",
   "execution_count": 46,
   "id": "6ac7465f-5d48-460c-8f1d-7e46c2c1aae4",
   "metadata": {},
   "outputs": [
    {
     "data": {
      "text/plain": [
       "array([[ 7, 10,  5],\n",
       "       [ 7, 10,  8],\n",
       "       [11, 12, 12]], dtype=int32)"
      ]
     },
     "execution_count": 46,
     "metadata": {},
     "output_type": "execute_result"
    }
   ],
   "source": [
    "arr1"
   ]
  },
  {
   "cell_type": "code",
   "execution_count": 48,
   "id": "c7939e64-4c15-4dad-a8b4-c64b471718cf",
   "metadata": {},
   "outputs": [
    {
     "data": {
      "text/plain": [
       "array([[20, 15, 17],\n",
       "       [16, 21, 21],\n",
       "       [21, 17, 23]], dtype=int32)"
      ]
     },
     "execution_count": 48,
     "metadata": {},
     "output_type": "execute_result"
    }
   ],
   "source": [
    "arr2"
   ]
  },
  {
   "cell_type": "code",
   "execution_count": 51,
   "id": "db7f2cf9-f880-4cca-b8b8-e3c9211b8913",
   "metadata": {},
   "outputs": [
    {
     "data": {
      "text/plain": [
       "array([[-12, -16,  -8],\n",
       "       [ -5,  -8, -11],\n",
       "       [-13,  -8,  -2]], dtype=int32)"
      ]
     },
     "execution_count": 51,
     "metadata": {},
     "output_type": "execute_result"
    }
   ],
   "source": [
    "arr1-arr2"
   ]
  },
  {
   "cell_type": "code",
   "execution_count": 53,
   "id": "d5b466e0-a60a-432e-ab82-5ec5e88c5128",
   "metadata": {},
   "outputs": [
    {
     "data": {
      "text/plain": [
       "array([[24, 30, 28],\n",
       "       [27, 28, 21],\n",
       "       [31, 32, 28]], dtype=int32)"
      ]
     },
     "execution_count": 53,
     "metadata": {},
     "output_type": "execute_result"
    }
   ],
   "source": [
    "arr1+arr2"
   ]
  },
  {
   "cell_type": "code",
   "execution_count": 55,
   "id": "9b88d9bb-8977-4512-936f-9db108cf70aa",
   "metadata": {},
   "outputs": [
    {
     "data": {
      "text/plain": [
       "array([[0.33333333, 0.30434783, 0.55555556],\n",
       "       [0.6875    , 0.55555556, 0.3125    ],\n",
       "       [0.40909091, 0.6       , 0.86666667]])"
      ]
     },
     "execution_count": 55,
     "metadata": {},
     "output_type": "execute_result"
    }
   ],
   "source": [
    "arr1/arr2   # index wise array divison."
   ]
  },
  {
   "cell_type": "code",
   "execution_count": 57,
   "id": "4ffee50a-0f5e-449e-b998-65faaa84d09d",
   "metadata": {},
   "outputs": [
    {
     "data": {
      "text/plain": [
       "array([[108, 161, 180],\n",
       "       [176, 180,  80],\n",
       "       [198, 240, 195]], dtype=int32)"
      ]
     },
     "execution_count": 57,
     "metadata": {},
     "output_type": "execute_result"
    }
   ],
   "source": [
    "arr1*arr2  # index wise array multiplication."
   ]
  },
  {
   "cell_type": "code",
   "execution_count": 60,
   "id": "7fc539d0-c7cc-42f8-8686-407d1a627e80",
   "metadata": {},
   "outputs": [
    {
     "data": {
      "text/plain": [
       "array([[440, 464, 370],\n",
       "       [468, 533, 433],\n",
       "       [640, 683, 549]], dtype=int32)"
      ]
     },
     "execution_count": 60,
     "metadata": {},
     "output_type": "execute_result"
    }
   ],
   "source": [
    "#matric multiplication >> different from index wise multiplication.\n",
    "arr1 @ arr2  # 1st way of doing matrix multipliaction."
   ]
  },
  {
   "cell_type": "code",
   "execution_count": 62,
   "id": "b2798901-1e2c-48af-8911-da4be5a80868",
   "metadata": {},
   "outputs": [
    {
     "data": {
      "text/plain": [
       "array([[440, 464, 370],\n",
       "       [468, 533, 433],\n",
       "       [640, 683, 549]], dtype=int32)"
      ]
     },
     "execution_count": 62,
     "metadata": {},
     "output_type": "execute_result"
    }
   ],
   "source": [
    "np.dot(arr1,arr2) #2nd way.  matrix multiplication can also be called as dot product"
   ]
  },
  {
   "cell_type": "code",
   "execution_count": 64,
   "id": "30c768f5-da54-44e7-878b-9636504a7a05",
   "metadata": {},
   "outputs": [
    {
     "name": "stderr",
     "output_type": "stream",
     "text": [
      "C:\\Users\\Rishi Raj\\AppData\\Local\\Temp\\ipykernel_14500\\408271498.py:1: RuntimeWarning: divide by zero encountered in divide\n",
      "  arr1/0 # in python if we divide a number by 0 then it became give zero divison error  and when comes to panda then it give infinity.\n"
     ]
    },
    {
     "data": {
      "text/plain": [
       "array([[inf, inf, inf],\n",
       "       [inf, inf, inf],\n",
       "       [inf, inf, inf]])"
      ]
     },
     "execution_count": 64,
     "metadata": {},
     "output_type": "execute_result"
    }
   ],
   "source": [
    "arr1/0 # in python if we divide a number by 0 then it became give zero divison error  and when comes to panda then it give infinity. "
   ]
  },
  {
   "cell_type": "code",
   "execution_count": 68,
   "id": "eafd54b6-be8d-45b2-bb7a-d0c476e13671",
   "metadata": {},
   "outputs": [
    {
     "data": {
      "text/plain": [
       "array([[0., 0., 0., 0.],\n",
       "       [0., 0., 0., 0.],\n",
       "       [0., 0., 0., 0.]])"
      ]
     },
     "execution_count": 68,
     "metadata": {},
     "output_type": "execute_result"
    }
   ],
   "source": [
    "#broadcasting\n",
    "arr5 = np.zeros((3,4))\n",
    "arr5"
   ]
  },
  {
   "cell_type": "code",
   "execution_count": 72,
   "id": "eb7e6e2e-0765-43b9-9a81-64c7bed016c5",
   "metadata": {},
   "outputs": [],
   "source": [
    "c = np.array([1,2,3,4])"
   ]
  },
  {
   "cell_type": "code",
   "execution_count": 78,
   "id": "d18ee1f3-e2d3-41af-8f27-fb9220fb3655",
   "metadata": {},
   "outputs": [
    {
     "name": "stdout",
     "output_type": "stream",
     "text": [
      "[[1. 2. 3. 4.]\n",
      " [1. 2. 3. 4.]\n",
      " [1. 2. 3. 4.]]\n"
     ]
    }
   ],
   "source": [
    "r = arr5+c\n",
    "print(r)"
   ]
  },
  {
   "cell_type": "code",
   "execution_count": 80,
   "id": "b1571572-086f-4003-9958-5ec894153dca",
   "metadata": {},
   "outputs": [
    {
     "data": {
      "text/plain": [
       "array([[1, 2, 3, 4],\n",
       "       [1, 2, 3, 4],\n",
       "       [1, 2, 3, 4]])"
      ]
     },
     "execution_count": 80,
     "metadata": {},
     "output_type": "execute_result"
    }
   ],
   "source": [
    "r.astype(int)"
   ]
  },
  {
   "cell_type": "code",
   "execution_count": 84,
   "id": "9259d3df-f0e1-4224-891a-2121901b1ff3",
   "metadata": {},
   "outputs": [
    {
     "data": {
      "text/plain": [
       "array([[1, 1, 1],\n",
       "       [2, 2, 2],\n",
       "       [3, 3, 3],\n",
       "       [4, 4, 4]])"
      ]
     },
     "execution_count": 84,
     "metadata": {},
     "output_type": "execute_result"
    }
   ],
   "source": [
    "r.T.astype(int)"
   ]
  },
  {
   "cell_type": "code",
   "execution_count": 86,
   "id": "98c5db8e-e5fb-4beb-a86a-2dd77863ac5b",
   "metadata": {},
   "outputs": [
    {
     "data": {
      "text/plain": [
       "array([[1.        , 1.41421356, 1.73205081, 2.        ],\n",
       "       [1.        , 1.41421356, 1.73205081, 2.        ],\n",
       "       [1.        , 1.41421356, 1.73205081, 2.        ]])"
      ]
     },
     "execution_count": 86,
     "metadata": {},
     "output_type": "execute_result"
    }
   ],
   "source": [
    "# if we want to find square root of every ele\n",
    "np.sqrt(r)"
   ]
  },
  {
   "cell_type": "code",
   "execution_count": 88,
   "id": "4cff9ced-dd58-4e51-aacf-ce3572122d84",
   "metadata": {},
   "outputs": [
    {
     "data": {
      "text/plain": [
       "array([[0.        , 0.30103   , 0.47712125, 0.60205999],\n",
       "       [0.        , 0.30103   , 0.47712125, 0.60205999],\n",
       "       [0.        , 0.30103   , 0.47712125, 0.60205999]])"
      ]
     },
     "execution_count": 88,
     "metadata": {},
     "output_type": "execute_result"
    }
   ],
   "source": [
    "np.log10(r) # find log value w.r.t to base 10."
   ]
  },
  {
   "cell_type": "code",
   "execution_count": 90,
   "id": "416e1658-4571-4f15-be0a-f885532259c1",
   "metadata": {},
   "outputs": [
    {
     "data": {
      "text/plain": [
       "array([[ 2.71828183,  7.3890561 , 20.08553692, 54.59815003],\n",
       "       [ 2.71828183,  7.3890561 , 20.08553692, 54.59815003],\n",
       "       [ 2.71828183,  7.3890561 , 20.08553692, 54.59815003]])"
      ]
     },
     "execution_count": 90,
     "metadata": {},
     "output_type": "execute_result"
    }
   ],
   "source": [
    "np.exp(r)  # np. exp() calculates e^x for each value of x in your input array"
   ]
  },
  {
   "cell_type": "code",
   "execution_count": 92,
   "id": "f690bc1d-42a2-4a5d-be8c-4c7425ff6187",
   "metadata": {},
   "outputs": [
    {
     "data": {
      "text/plain": [
       "np.float64(1.0)"
      ]
     },
     "execution_count": 92,
     "metadata": {},
     "output_type": "execute_result"
    }
   ],
   "source": [
    "np.min(r)"
   ]
  },
  {
   "cell_type": "code",
   "execution_count": 94,
   "id": "1e0f06e5-b806-45dd-ba0c-fcc0d520ebbf",
   "metadata": {},
   "outputs": [
    {
     "data": {
      "text/plain": [
       "np.float64(4.0)"
      ]
     },
     "execution_count": 94,
     "metadata": {},
     "output_type": "execute_result"
    }
   ],
   "source": [
    "np.max(r)"
   ]
  },
  {
   "cell_type": "code",
   "execution_count": null,
   "id": "5136bbd9-6d34-4bda-8f1a-a2e91705081d",
   "metadata": {},
   "outputs": [],
   "source": []
  },
  {
   "cell_type": "code",
   "execution_count": null,
   "id": "b78d8db5-2b00-4466-90b1-6ed840cd206c",
   "metadata": {},
   "outputs": [],
   "source": []
  }
 ],
 "metadata": {
  "kernelspec": {
   "display_name": "Python 3 (ipykernel)",
   "language": "python",
   "name": "python3"
  },
  "language_info": {
   "codemirror_mode": {
    "name": "ipython",
    "version": 3
   },
   "file_extension": ".py",
   "mimetype": "text/x-python",
   "name": "python",
   "nbconvert_exporter": "python",
   "pygments_lexer": "ipython3",
   "version": "3.12.1"
  }
 },
 "nbformat": 4,
 "nbformat_minor": 5
}
